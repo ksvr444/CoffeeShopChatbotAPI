{
  "cells": [
    {
      "cell_type": "markdown",
      "metadata": {
        "id": "Ow278nRF0JoN"
      },
      "source": [
        "        Python Programming\n",
        "        Mahyar S Vaghefi\n",
        "        University of Texas Arlington"
      ]
    },
    {
      "cell_type": "markdown",
      "metadata": {
        "id": "k-W7Hl8M0JoP"
      },
      "source": [
        "<h1 align='center' style=\"color: blue;\">Assignment #3</h1>"
      ]
    },
    {
      "cell_type": "code",
      "execution_count": 1,
      "metadata": {
        "id": "iE8i9a4a0JoP"
      },
      "outputs": [],
      "source": [
        "# Student Name: Sai Venkat Reddy Kopparthi"
      ]
    },
    {
      "cell_type": "markdown",
      "metadata": {
        "id": "8edNq9EM0JoQ"
      },
      "source": [
        "<div style=\"font-family: Arial, sans-serif; max-width: 900px; margin: auto; line-height: 1.6;\">\n",
        "    <h3 style=\"\">Question 1:</h3>\n",
        "    <img src='https://www.dropbox.com/scl/fi/6abcguthme22jjn18jphi/Assignment-3_Q1.webp?rlkey=d1posdjdjtgfcwht2so79mk83&raw=1' width=\"400\">\n",
        "    <div>\n",
        "        First, we'll install and import the required <code>emoji</code> package:\n",
        "    <div>\n",
        "</div>"
      ]
    },
    {
      "cell_type": "code",
      "execution_count": 2,
      "metadata": {
        "colab": {
          "base_uri": "https://localhost:8080/"
        },
        "id": "fw7VMGwA0JoR",
        "outputId": "92c05822-8158-4d5f-86fe-ecb758fe5ce1"
      },
      "outputs": [
        {
          "output_type": "stream",
          "name": "stdout",
          "text": [
            "Collecting emoji\n",
            "  Downloading emoji-2.14.0-py3-none-any.whl.metadata (5.7 kB)\n",
            "Downloading emoji-2.14.0-py3-none-any.whl (586 kB)\n",
            "\u001b[2K   \u001b[90m━━━━━━━━━━━━━━━━━━━━━━━━━━━━━━━━━━━━━━━━\u001b[0m \u001b[32m586.9/586.9 kB\u001b[0m \u001b[31m8.3 MB/s\u001b[0m eta \u001b[36m0:00:00\u001b[0m\n",
            "\u001b[?25hInstalling collected packages: emoji\n",
            "Successfully installed emoji-2.14.0\n"
          ]
        }
      ],
      "source": [
        "# install the package\n",
        "!pip install emoji"
      ]
    },
    {
      "cell_type": "code",
      "execution_count": 3,
      "metadata": {
        "id": "xrUFujqw0JoR"
      },
      "outputs": [],
      "source": [
        "# import the package\n",
        "import emoji"
      ]
    },
    {
      "cell_type": "code",
      "execution_count": 4,
      "metadata": {
        "colab": {
          "base_uri": "https://localhost:8080/",
          "height": 108
        },
        "id": "xtXtkTyO0JoR",
        "outputId": "576dda86-25ba-4af0-8156-b1d61bcf9d21"
      },
      "outputs": [
        {
          "output_type": "error",
          "ename": "SyntaxError",
          "evalue": "invalid decimal literal (<ipython-input-4-ad1f9ee97a9c>, line 1)",
          "traceback": [
            "\u001b[0;36m  File \u001b[0;32m\"<ipython-input-4-ad1f9ee97a9c>\"\u001b[0;36m, line \u001b[0;32m1\u001b[0m\n\u001b[0;31m    https://www.dropbox.com/scl/fi/6abcguthme22jjn18jphi/Assignment-3_Q1.webp?rlkey=d1posdjdjtgfcwht2so79mk83&dl=0\u001b[0m\n\u001b[0m                                   ^\u001b[0m\n\u001b[0;31mSyntaxError\u001b[0m\u001b[0;31m:\u001b[0m invalid decimal literal\n"
          ]
        }
      ],
      "source": [
        "https://www.dropbox.com/scl/fi/6abcguthme22jjn18jphi/Assignment-3_Q1.webp?rlkey=d1posdjdjtgfcwht2so79mk83&dl=0"
      ]
    },
    {
      "cell_type": "markdown",
      "metadata": {
        "id": "aWs9psnI0JoR"
      },
      "source": [
        "<p>Consider this predefined mood dictionary:</p>"
      ]
    },
    {
      "cell_type": "code",
      "execution_count": 41,
      "metadata": {
        "id": "qgpbKDA50JoR"
      },
      "outputs": [],
      "source": [
        "weather_list = [':sun_with_face:', ':cloud_with_rain:', ':high_voltage:', ':rainbow:',\n",
        "             ':crescent_moon:', ':volcano:', ':water_wave:', ':seedling:',\n",
        "             ':fire:', ':snowflake:']"
      ]
    },
    {
      "cell_type": "markdown",
      "metadata": {
        "id": "SxZQttKp0JoS"
      },
      "source": [
        "The preceding list contains a list of codes that represent various emojis. Using the emojize function, you can see the actual emoji. Here's an example:"
      ]
    },
    {
      "cell_type": "code",
      "execution_count": 42,
      "metadata": {
        "colab": {
          "base_uri": "https://localhost:8080/"
        },
        "id": "LYwCHEJ-0JoS",
        "outputId": "bfa02137-7938-4561-8a52-22428e27ef2c"
      },
      "outputs": [
        {
          "output_type": "stream",
          "name": "stdout",
          "text": [
            ":sun_with_face: --> 🌞\n",
            ":cloud_with_rain: --> 🌧️\n",
            ":high_voltage: --> ⚡\n",
            ":rainbow: --> 🌈\n",
            ":crescent_moon: --> 🌙\n",
            ":volcano: --> 🌋\n",
            ":water_wave: --> 🌊\n",
            ":seedling: --> 🌱\n",
            ":fire: --> 🔥\n",
            ":snowflake: --> ❄️\n"
          ]
        }
      ],
      "source": [
        "for item in weather_list:\n",
        "    print(item,'-->',emoji.emojize(item))"
      ]
    },
    {
      "cell_type": "markdown",
      "metadata": {
        "id": "EWF76UHx0JoS"
      },
      "source": [
        "<h3>Part 1: Mood-Weather Association System</h3>\n",
        "<p>Create a system that associates moods with weather/nature emojis:</p>\n",
        "        <ol>\n",
        "            <li>For each emoji in the weather_list:\n",
        "                <ul>\n",
        "                    <li>Show the emoji code to the user</li>\n",
        "                    <li>Ask them to provide 5 different moods/emotions they associate with this weather element</li>\n",
        "                    <li>Moods should be separated by semicolons (;)</li>\n",
        "                    <li>Example input for 🌞: \"energetic;happy;motivated;productive;confident\"</li>\n",
        "                </ul>\n",
        "            </li>\n",
        "            <li>Process each input:\n",
        "                <ul>\n",
        "                    <li>Split into individual words</li>\n",
        "                    <li>Remove extra spaces</li>\n",
        "                    <li>Convert to lowercase</li>\n",
        "                    <li>Example processed list: ['energetic', 'happy', 'motivated', 'productive', 'confident']</li>\n",
        "                </ul>\n",
        "            </li>\n",
        "            <li>Convert to a set to ensure unique moods\n",
        "                <ul>\n",
        "                    <li>Example: {'energetic', 'happy', 'motivated', 'productive', 'confident'}</li>\n",
        "                </ul>\n",
        "            </li>\n",
        "            <li>Create a dictionary:\n",
        "                <ul>\n",
        "                    <li>Keys: weather emoji codes</li>\n",
        "                    <li>Values: sets of associated moods</li>\n",
        "                    <li>Example: {':sun_with_face:': {'energetic', 'happy', 'motivated', 'productive', 'confident'}}</li>\n",
        "                </ul>\n",
        "            </li>\n",
        "        </ol>\n",
        "<h3>Part 2: Data Persistence</h3>\n",
        "        <ol>\n",
        "            <li>Use pickle to save the mood associations dictionary</li>\n",
        "        </ol>\n",
        "<h3>Part 3: Mood Analysis System</h3>\n",
        "        <ol>\n",
        "            <li>Load the saved mood dictionary</li>\n",
        "            <li>Create functions to:\n",
        "                <ul>\n",
        "                    <li>Find all emojis associated with a specific mood.\n",
        "                       <br> <span style='color:red'>Example: If \"energetic\" passed as an input the results should be like: </span></li>\n",
        "                    <div>\n",
        "            <span>\n",
        "                Mood \"energetic\" is associated with:<br>\n",
        "                - 🌞 (sun_with_face)<br>\n",
        "                - ⚡ (high_voltage)<br>\n",
        "                - 🔥 (fire)<br>\n",
        "            </span>\n",
        "        </div>\n",
        "                </ul>\n",
        "            </li>\n",
        "        </ol>\n",
        "<h3>Part 4: Mood Journal</h3>\n",
        "        <p>Create a mood journaling system:</p>\n",
        "        <ol>\n",
        "            <li>Ask user to write a journal entry about their day</li>\n",
        "            <li>Scan the text for any mood words from their associations</li>\n",
        "            <li>Add relevant weather emojis that match their mood descriptions</li>\n",
        "        </ol>\n",
        "        <div>\n",
        "            <p><strong>Example:</strong></p>\n",
        "            <span>\n",
        "                Input: \"Today was productive and energetic in the morning, but by evening I felt peaceful and calm\"<br>\n",
        "                Output: \"Today was productive 🌞 and energetic 🌞 in the morning, but by evening I felt peaceful 🌙 and calm 🌙\"<br>\n",
        "            </span>\n",
        "        </div>\n",
        "    </div>\n",
        "    <div style=\"margin: 20px 0;\">\n",
        "        <h3>Requirements</h3>\n",
        "        <ul>\n",
        "            <li>Input validation for all user interactions</li>\n",
        "            <li>Comprehensive error handling</li>\n",
        "            <li>Clear documentation and comments</li>\n",
        "            <li>Modular design with separate functions for each major feature</li>\n",
        "        </ul>\n",
        "    </div>\n"
      ]
    },
    {
      "cell_type": "code",
      "source": [
        "mood_dict = {}\n",
        "for emoji_code in weather_list:\n",
        "    while True:\n",
        "        try:\n",
        "            moods_input = input(f\"Enter 5 moods for {emoji.emojize(emoji_code)} separated by semicolons: \")\n",
        "            moods_list = [mood.strip().lower() for mood in moods_input.split(';')]\n",
        "            if len(moods_list) != 5 or len(set(moods_list)) != 5:\n",
        "                raise ValueError(\"Please enter exactly 5 unique moods separated by semicolons.\")\n",
        "            mood_dict[emoji_code] = set(moods_list)\n",
        "            break\n",
        "        except ValueError as e:\n",
        "            print(e)"
      ],
      "metadata": {
        "colab": {
          "base_uri": "https://localhost:8080/"
        },
        "id": "89TBwVbj6ERW",
        "outputId": "c0503da1-2366-4fb9-a100-b9c4654d73b1"
      },
      "execution_count": 44,
      "outputs": [
        {
          "name": "stdout",
          "output_type": "stream",
          "text": [
            "Enter 5 moods for 🌞 separated by semicolons: cheerful; warm; bright; hopeful; energetic\n",
            "Enter 5 moods for 🌧️ separated by semicolons: gloomy; calm; reflective; cozy; serene\n",
            "Enter 5 moods for ⚡ separated by semicolons: intense; powerful; dramatic; exciting; unpredictable\n",
            "Enter 5 moods for 🌈 separated by semicolons: magical; joyful; hopeful; peaceful; inspiring\n",
            "Enter 5 moods for 🌙 separated by semicolons: serene; dreamy; mysterious; peaceful; romantic\n",
            "Enter 5 moods for 🌋 separated by semicolons: fiery; intense; destructive; dramatic; awe-inspiring\n",
            "Enter 5 moods for 🌊 separated by semicolons: refreshing; calming; relentless; adventurous; flowing\n",
            "Enter 5 moods for 🌱 separated by semicolons: fresh; hopeful; peaceful; nurturing; growing\n",
            "Enter 5 moods for 🔥 separated by semicolons: passionate; fierce; warm; intense; vibrant\n",
            "Enter 5 moods for ❄️ separated by semicolons: cold; delicate; pure; gentle; unique\n"
          ]
        }
      ]
    },
    {
      "cell_type": "code",
      "execution_count": 45,
      "metadata": {
        "id": "fZLD1X-z0JoT"
      },
      "outputs": [],
      "source": [
        "# Write the the answer for the part #2 over here\n",
        "import pickle\n",
        "\n",
        "with open('mood_associations.pickle', 'wb') as f:\n",
        "    pickle.dump(mood_dict, f)"
      ]
    },
    {
      "cell_type": "code",
      "source": [
        "# Write the the answer for the part #3 over here\n",
        "\n",
        "# Load the saved mood dictionary\n",
        "def load_mood_dict(filename='mood_associations.pickle'):\n",
        "    with open(filename, 'rb') as f:\n",
        "        return pickle.load(f)\n",
        "\n",
        "def find_emojis_for_mood(mood, mood_dict):\n",
        "    emojis = []\n",
        "    if mood_dict:\n",
        "      # Find all emojis associated with a specific mood.\n",
        "        for emoji_code, moods in mood_dict.items():\n",
        "            if mood in moods:\n",
        "                emojis.append((emoji.emojize(emoji_code), emoji_code)) #return tuple with emojized and code\n",
        "\n",
        "    if emojis:\n",
        "        print(f'Mood \"{mood}\" is associated with:')\n",
        "        for emoji_icon, emoji_code in emojis:\n",
        "          print(f'{emoji_icon} ({emoji_code.strip(\":\")})')\n",
        "    else:\n",
        "        print(f'No emojis found for mood \"{mood}\".')\n",
        "\n",
        "\n",
        "mood_dictionary = load_mood_dict()\n",
        "\n",
        "if mood_dictionary:\n",
        "    find_emojis_for_mood(\"serene\", mood_dictionary)"
      ],
      "metadata": {
        "colab": {
          "base_uri": "https://localhost:8080/"
        },
        "id": "IHQn8r816_6A",
        "outputId": "a2061483-3560-4d98-fd6b-7a720b257914"
      },
      "execution_count": 46,
      "outputs": [
        {
          "output_type": "stream",
          "name": "stdout",
          "text": [
            "Mood \"serene\" is associated with:\n",
            "🌧️ (cloud_with_rain)\n",
            "🌙 (crescent_moon)\n"
          ]
        }
      ]
    },
    {
      "cell_type": "code",
      "source": [
        "# Write the the answer for the part #4 over here\n",
        "\n",
        "def mood_journal(mood_dict):\n",
        "     # Ask user to write a journal entry about their day\n",
        "    journal_entry = input(\"Write your journal entry for today: \")\n",
        "    words = journal_entry.lower().split()\n",
        "    output = []\n",
        "\n",
        "    # Scan the text for any mood words from their associations\n",
        "    for word in words:\n",
        "        found_emoji = False\n",
        "        for emoji_code, moods in mood_dict.items():\n",
        "            if word in moods:\n",
        "                output.append(word)\n",
        "                # Add relevant weather emojis that match their mood descriptions\n",
        "                output.append(emoji.emojize(emoji_code))\n",
        "                found_emoji = True\n",
        "                break\n",
        "        if not found_emoji:\n",
        "            output.append(word)\n",
        "\n",
        "    print(\" \".join(output))\n",
        "\n",
        "mood_journal(mood_dictionary)"
      ],
      "metadata": {
        "colab": {
          "base_uri": "https://localhost:8080/"
        },
        "id": "U-xmJbEQ8qdP",
        "outputId": "0d1179ab-af53-4265-b1b9-6f791041a40e"
      },
      "execution_count": 68,
      "outputs": [
        {
          "output_type": "stream",
          "name": "stdout",
          "text": [
            "Write your journal entry for today: Today felt serene as I watched the calming waves crash gently against the shore, but the fiery intensity of my passion for completing my project kept me motivated\n",
            "today felt serene 🌧️ as i watched the calming 🌊 waves crash gently against the shore, but the fiery 🌋 intensity of my passion for completing my project kept me motivated\n"
          ]
        }
      ]
    },
    {
      "cell_type": "markdown",
      "metadata": {
        "id": "vdpEBiE70JoT"
      },
      "source": [
        "<h3 style=\"\">Question 2:</h3>\n",
        "<img src='https://www.dropbox.com/scl/fi/r8fpxpbuozwsj70s17sfc/Assignment-3_Q2.webp?rlkey=siz2cbzf5jlzy9xzbt1nzmwmo&raw=1' width=\"400\">\n",
        "Let's create an object-oriented system for our Weather-Mood tracking work. Perform the following tasks:\n",
        "\n",
        "### Part #1: Create the WeatherMood Class\n",
        "Create a class called `weather_mood`. Each object created with this class should have two hidden attributes:\n",
        "- `weather_code` (for the weather emoji code)\n",
        "- `mood_associations` (for associated moods)\n",
        "\n",
        "### Class Requirements:\n",
        "\n",
        "1. **Initialization**\n",
        "   - Both attributes should be private/hidden and inaccessible from outside\n",
        "   - The class should initialize these attributes in two ways:\n",
        "     ```python\n",
        "     # Option 1: With initial mood associations\n",
        "     my_weather = weather_mood(':sun_with_face:', {'energetic', 'happy'})\n",
        "     \n",
        "     # Option 2: Without initial mood associations\n",
        "     my_weather = weather_mood(':sun_with_face:')\n",
        "     ```\n",
        "\n",
        "2. **Required Methods**\n",
        "   - `update_moods`: Accepts a set of new moods and adds them to existing mood associations\n",
        "     ```python\n",
        "     # Example\n",
        "     my_weather.update_moods({'productive', 'motivated'})\n",
        "     ```\n",
        "   \n",
        "   - `remove_moods`: Accepts a set of moods and removes them from existing associations\n",
        "     ```python\n",
        "     # Example\n",
        "     my_weather.remove_moods({'motivated'})\n",
        "     ```\n",
        "   \n",
        "   - `get_weather_code`: Returns the weather emoji code\n",
        "     ```python\n",
        "     # Example\n",
        "     code = my_weather.get_weather_code()  # Returns ':sun_with_face:'\n",
        "     ```\n",
        "   \n",
        "   - `get_moods`: Returns the set of associated moods\n",
        "     ```python\n",
        "     # Example\n",
        "     moods = my_weather.get_moods()  # Returns {'energetic', 'happy', 'productive'}\n",
        "     ```\n",
        "   \n",
        "   - `__str__`: Should display the weather emoji when the object is printed\n",
        "     ```python\n",
        "     # Example\n",
        "     print(my_weather)  # Displays: 🌞\n",
        "     ```\n",
        "\n",
        "### Part #2: Save the Class\n",
        "Save the class implementation in a file named `weather_mood.py`\n",
        "\n",
        "### Part #3: Test Implementation\n",
        "Create a test script that:\n",
        "1. Imports the `weather_mood` class\n",
        "2. Creates a weather mood object for ':cloud_with_rain:'\n",
        "3. Tests all class methods to demonstrate functionality:\n",
        "\n",
        "### Test Requirements\n",
        "Your test implementation should demonstrate:\n",
        "1. Creating an object with and without initial moods\n",
        "2. Adding new moods to existing associations\n",
        "3. Removing moods from existing associations\n",
        "4. Retrieving the weather code\n",
        "5. Retrieving the mood associations\n",
        "6. Proper display of the weather emoji\n",
        "7. Error handling for invalid inputs"
      ]
    },
    {
      "cell_type": "code",
      "source": [
        "# Write the the answer for the part #1 over here\n",
        "\n",
        "import emoji\n",
        "\n",
        "class weather_mood:\n",
        "    def __init__(self, weather_code, mood_associations=None):\n",
        "        self.__weather_code = weather_code\n",
        "        self.__mood_associations = set() if mood_associations is None else set(mood_associations)\n",
        "\n",
        "    def update_moods(self, new_moods):\n",
        "        if isinstance(new_moods, set):\n",
        "            self.__mood_associations.update(new_moods)\n",
        "        else:\n",
        "            print(\"Invalid input. Please provide a set of moods.\")\n",
        "\n",
        "    def remove_moods(self, moods_to_remove):\n",
        "        if isinstance(moods_to_remove, set):\n",
        "            self.__mood_associations.difference_update(moods_to_remove)\n",
        "        else:\n",
        "            print(\"Invalid input. Please provide a set of moods.\")\n",
        "\n",
        "    def get_weather_code(self):\n",
        "        return self.__weather_code\n",
        "\n",
        "    def get_moods(self):\n",
        "        return self.__mood_associations\n",
        "\n",
        "    def __str__(self):\n",
        "        return emoji.emojize(self.__weather_code)"
      ],
      "metadata": {
        "id": "liJdjQPJBFm2"
      },
      "execution_count": 48,
      "outputs": []
    },
    {
      "cell_type": "code",
      "execution_count": 49,
      "metadata": {
        "colab": {
          "base_uri": "https://localhost:8080/"
        },
        "id": "6D9U3ZeZ0JoT",
        "outputId": "0eaf943a-2308-4199-d6d5-8a47302ff302"
      },
      "outputs": [
        {
          "output_type": "stream",
          "name": "stdout",
          "text": [
            "Writing weather_mood.py\n"
          ]
        }
      ],
      "source": [
        "# Write the the answer for the part #2 over here\n",
        "%%writefile weather_mood.py\n",
        "\n",
        "import emoji\n",
        "\n",
        "class weather_mood:\n",
        "    def __init__(self, weather_code, mood_associations=None):\n",
        "        self.__weather_code = weather_code\n",
        "        self.__mood_associations = set() if mood_associations is None else set(mood_associations)\n",
        "\n",
        "    def update_moods(self, new_moods):\n",
        "        if isinstance(new_moods, set):\n",
        "            self.__mood_associations.update(new_moods)\n",
        "        else:\n",
        "            print(\"Invalid input. Please provide a set of moods.\")\n",
        "\n",
        "    def remove_moods(self, moods_to_remove):\n",
        "        if isinstance(moods_to_remove, set):\n",
        "            self.__mood_associations.difference_update(moods_to_remove)\n",
        "        else:\n",
        "            print(\"Invalid input. Please provide a set of moods.\")\n",
        "\n",
        "    def get_weather_code(self):\n",
        "        return self.__weather_code\n",
        "\n",
        "    def get_moods(self):\n",
        "        return self.__mood_associations\n",
        "\n",
        "    def __str__(self):\n",
        "        return emoji.emojize(self.__weather_code)"
      ]
    },
    {
      "cell_type": "code",
      "source": [
        "# Write the the answer for the part #3 over here\n",
        "\n",
        "import emoji\n",
        "from weather_mood import weather_mood\n",
        "\n",
        "# Test creating an object with initial moods\n",
        "print(\"- Test creating an object with initial moods\")\n",
        "weather1 = weather_mood(':cloud_with_rain:', {'gloomy', 'sad'})\n",
        "print(weather1)\n",
        "#Retrieveing the weather code\n",
        "print(weather1.get_weather_code())\n",
        "print(weather1.get_moods())\n",
        "print()\n",
        "\n",
        "# Test creating an object without initial moods\n",
        "print(\"- Test creating an object without initial moods\")\n",
        "weather2 = weather_mood(':sun_with_face:')\n",
        "print(weather2)\n",
        "print(weather2.get_moods())\n",
        "print()\n",
        "\n",
        "# Test updating moods\n",
        "print(\"- Test updating moods\")\n",
        "weather2.update_moods({'happy', 'energetic'})\n",
        "print(weather2.get_moods())\n",
        "#set doensn't take duplicated\n",
        "weather2.update_moods({'happy'})\n",
        "print(weather2.get_moods())\n",
        "print()\n",
        "\n",
        "# Test removing moods\n",
        "print(\"- Test removing moods\")\n",
        "weather2.remove_moods({'happy'})\n",
        "print(weather2.get_moods())\n",
        "print()\n",
        "\n",
        "# Test invalid input for update_moods\n",
        "print(\"- Test invalid input for update_moods\")\n",
        "weather2.update_moods(['test'])\n",
        "print(weather2.get_moods())\n",
        "print()\n",
        "\n",
        "# Test invalid input for remove_moods\n",
        "print(\"- Test invalid input for remove_moods\")\n",
        "weather2.remove_moods(['test'])\n",
        "print(weather2.get_moods())\n",
        "print()\n",
        "\n",
        "# Test error handling (trying to access private attributes directly)\n",
        "print(\"- Test error handling (trying to access private attributes directly)\")\n",
        "print(weather1.__weather_code)"
      ],
      "metadata": {
        "colab": {
          "base_uri": "https://localhost:8080/",
          "height": 626
        },
        "id": "sToX6kmHD4rP",
        "outputId": "c604b07a-979b-43ce-9b9f-a974f963d2e0"
      },
      "execution_count": 66,
      "outputs": [
        {
          "output_type": "stream",
          "name": "stdout",
          "text": [
            "- Test creating an object with initial moods\n",
            "🌧️\n",
            ":cloud_with_rain:\n",
            "{'sad', 'gloomy'}\n",
            "\n",
            "- Test creating an object without initial moods\n",
            "🌞\n",
            "set()\n",
            "\n",
            "- Test updating moods\n",
            "{'happy', 'energetic'}\n",
            "{'happy', 'energetic'}\n",
            "\n",
            "- Test removing moods\n",
            "{'energetic'}\n",
            "\n",
            "- Test invalid input for update_moods\n",
            "Invalid input. Please provide a set of moods.\n",
            "{'energetic'}\n",
            "\n",
            "- Test invalid input for remove_moods\n",
            "Invalid input. Please provide a set of moods.\n",
            "{'energetic'}\n",
            "\n",
            "- Test error handling (trying to access private attributes directly)\n"
          ]
        },
        {
          "output_type": "error",
          "ename": "AttributeError",
          "evalue": "'weather_mood' object has no attribute '__weather_code'",
          "traceback": [
            "\u001b[0;31m---------------------------------------------------------------------------\u001b[0m",
            "\u001b[0;31mAttributeError\u001b[0m                            Traceback (most recent call last)",
            "\u001b[0;32m<ipython-input-66-e50727bb3524>\u001b[0m in \u001b[0;36m<cell line: 49>\u001b[0;34m()\u001b[0m\n\u001b[1;32m     47\u001b[0m \u001b[0;31m# Test error handling (trying to access private attributes directly)\u001b[0m\u001b[0;34m\u001b[0m\u001b[0;34m\u001b[0m\u001b[0m\n\u001b[1;32m     48\u001b[0m \u001b[0mprint\u001b[0m\u001b[0;34m(\u001b[0m\u001b[0;34m\"- Test error handling (trying to access private attributes directly)\"\u001b[0m\u001b[0;34m)\u001b[0m\u001b[0;34m\u001b[0m\u001b[0;34m\u001b[0m\u001b[0m\n\u001b[0;32m---> 49\u001b[0;31m \u001b[0mprint\u001b[0m\u001b[0;34m(\u001b[0m\u001b[0mweather1\u001b[0m\u001b[0;34m.\u001b[0m\u001b[0m__weather_code\u001b[0m\u001b[0;34m)\u001b[0m\u001b[0;34m\u001b[0m\u001b[0;34m\u001b[0m\u001b[0m\n\u001b[0m",
            "\u001b[0;31mAttributeError\u001b[0m: 'weather_mood' object has no attribute '__weather_code'"
          ]
        }
      ]
    },
    {
      "cell_type": "markdown",
      "metadata": {
        "id": "kjl6VK7U0JoU"
      },
      "source": [
        "<b> Question 3:</b> Write a program that creates a database named `library.db`. The database should have the following tables `books`, `customers` and `borrowers`.\n",
        "<img src='https://www.dropbox.com/scl/fi/ymadvdajic26vunkvivsr/Assignment-3_Q3.webp?rlkey=f2apo3047lmx6q8pba7xn6tl0&raw=1' width=\"400\">\n",
        "<ol>\n",
        "    <li>The <b>books</b> table should have the following columns: 'B_ID', 'Book_Name', 'Published_Year', 'Author_Name'. The 'B_ID' should be defined as the primary key. Columns should be defined with appreciate types.</li>\n",
        "    <li>The <b>customers</b> table should have the following columns: 'C_ID', 'Customer_Name', 'Customer_Last_Name'. The 'C_ID' should be defined as the primary key. Columns should be defined with appreciate types.</li>\n",
        "    <li>The <b>borrowers</b> table should have the following columns: 'L_ID', 'B_ID', 'C_ID'. The 'L_ID' should be defined as the primary key. The 'B_ID' should be defined as the foreign key. The 'C_ID' should be defined as the foreign key. </li>\n",
        "    <li>Create a program that prompts the user to enter information for four books and inserts them into a table of books. </li>\n",
        "    <li>Create a program that prompts the user to enter information for three customers and inserts them into a table of customers. </li>\n",
        "    <li>Create a program that (without asking the user) adds information about two books borrowed by two different customers. In doing so use the B_ID and C_ID values.</li>\n",
        "    <li>Make a function that takes the B ID and deletes the associated record from the books table. If the book that the user wishes to delete has a foreign key associated with it in the borrower's table, the program should display an appropriate error message.</li>\n",
        "    <li>Create a function that allows users to search the books table by entering a complete or partial book name and displays all records that match the search term entered by the user.</li>\n",
        "    <li>Create a function that takes three arguments: C ID, new_name, and new_last_name, and updates the Customer_Name and Customer_Last_Name fields for the customer with the id equal to C_ID to the new values.</li>\n",
        "</ol>"
      ]
    },
    {
      "cell_type": "code",
      "execution_count": 53,
      "metadata": {
        "colab": {
          "base_uri": "https://localhost:8080/"
        },
        "id": "kPQ6W4NB0JoU",
        "outputId": "45819eab-f60e-4171-a0b7-a6eb3e418eb8"
      },
      "outputs": [
        {
          "output_type": "execute_result",
          "data": {
            "text/plain": [
              "<sqlite3.Cursor at 0x7d11b779f040>"
            ]
          },
          "metadata": {},
          "execution_count": 53
        }
      ],
      "source": [
        "# Write the the answer for the part #1 over here\n",
        "import sqlite3\n",
        "\n",
        "# Connect to the database\n",
        "conn = sqlite3.connect('library.db')\n",
        "\n",
        "# Creates a cursor object to interact with the database\n",
        "cursor = conn.cursor()\n",
        "\n",
        "cursor.execute('''\n",
        "    CREATE TABLE IF NOT EXISTS books (\n",
        "        B_ID INTEGER PRIMARY KEY,\n",
        "        Book_Name TEXT NOT NULL,\n",
        "        Published_Year INTEGER,\n",
        "        Author_Name TEXT\n",
        "    )\n",
        "''')"
      ]
    },
    {
      "cell_type": "code",
      "execution_count": 54,
      "metadata": {
        "colab": {
          "base_uri": "https://localhost:8080/"
        },
        "id": "GwWG91UA0JoU",
        "outputId": "17a30d34-ef3a-4b41-902f-312a152b2b4d"
      },
      "outputs": [
        {
          "output_type": "execute_result",
          "data": {
            "text/plain": [
              "<sqlite3.Cursor at 0x7d11b779f040>"
            ]
          },
          "metadata": {},
          "execution_count": 54
        }
      ],
      "source": [
        "# Write the the answer for the part #2 over here\n",
        "cursor.execute('''\n",
        "      CREATE TABLE IF NOT EXISTS customers (\n",
        "          C_ID INTEGER PRIMARY KEY,\n",
        "          Customer_Name TEXT NOT NULL,\n",
        "          Customer_Last_Name TEXT NOT NULL\n",
        "      )\n",
        "    ''')"
      ]
    },
    {
      "cell_type": "code",
      "execution_count": 55,
      "metadata": {
        "id": "JKu8JKjh0JoU"
      },
      "outputs": [],
      "source": [
        "# Write the the answer for the part #3 over here\n",
        "cursor.execute('''\n",
        "      CREATE TABLE IF NOT EXISTS borrowers (\n",
        "          L_ID INTEGER PRIMARY KEY,\n",
        "          B_ID INTEGER,\n",
        "          C_ID INTEGER,\n",
        "          FOREIGN KEY (B_ID) REFERENCES books (B_ID),\n",
        "          FOREIGN KEY (C_ID) REFERENCES customers (C_ID)\n",
        "      )\n",
        "  ''')\n",
        "\n",
        "conn.commit()"
      ]
    },
    {
      "cell_type": "code",
      "execution_count": 57,
      "metadata": {
        "colab": {
          "base_uri": "https://localhost:8080/"
        },
        "id": "8o5eFaBt0JoU",
        "outputId": "63dcea95-a918-4746-a02b-d9f4e002897b"
      },
      "outputs": [
        {
          "name": "stdout",
          "output_type": "stream",
          "text": [
            "Enter B_ID for book 1: 1\n",
            "Enter Book_Name for book 1: book1\n",
            "Enter Published_Year for book 1: 1234\n",
            "Enter Author_Name for book 1: auth1\n",
            "Enter B_ID for book 2: 2\n",
            "Enter Book_Name for book 2: book2\n",
            "Enter Published_Year for book 2: 2345\n",
            "Enter Author_Name for book 2: auth2\n",
            "Enter B_ID for book 3: 3\n",
            "Enter Book_Name for book 3: book3\n",
            "Enter Published_Year for book 3: 3456\n",
            "Enter Author_Name for book 3: auth3\n",
            "Enter B_ID for book 4: 4\n",
            "Enter Book_Name for book 4: book4\n",
            "Enter Published_Year for book 4: 4567\n",
            "Enter Author_Name for book 4: auth4\n"
          ]
        }
      ],
      "source": [
        "# Write the the answer for the part #4 over here\n",
        "def insert_books(conn):\n",
        "    cursor = conn.cursor()\n",
        "    for i in range(4):\n",
        "        b_id = int(input(f\"Enter B_ID for book {i + 1}: \"))\n",
        "        book_name = input(f\"Enter Book_Name for book {i + 1}: \")\n",
        "        published_year = int(input(f\"Enter Published_Year for book {i + 1}: \"))\n",
        "        author_name = input(f\"Enter Author_Name for book {i + 1}: \")\n",
        "        cursor.execute(\"INSERT INTO books (B_ID, Book_Name, Published_Year, Author_Name) VALUES (?, ?, ?, ?)\", (b_id, book_name, published_year, author_name))\n",
        "\n",
        "    conn.commit()\n",
        "insert_books(conn)"
      ]
    },
    {
      "cell_type": "code",
      "execution_count": 58,
      "metadata": {
        "colab": {
          "base_uri": "https://localhost:8080/"
        },
        "id": "2X962V9X0JoU",
        "outputId": "074a41aa-f447-49d4-ba99-7c721fcd1fa6"
      },
      "outputs": [
        {
          "name": "stdout",
          "output_type": "stream",
          "text": [
            "Enter C_ID for customer 1: 1\n",
            "Enter Customer_Name for customer 1: cust1\n",
            "Enter Customer_Last_Name for customer 1: cust1_last\n",
            "Enter C_ID for customer 2: 2\n",
            "Enter Customer_Name for customer 2: cust2\n",
            "Enter Customer_Last_Name for customer 2: cust2_last\n",
            "Enter C_ID for customer 3: 3\n",
            "Enter Customer_Name for customer 3: cust3\n",
            "Enter Customer_Last_Name for customer 3: cust3_last\n"
          ]
        }
      ],
      "source": [
        "# Write the the answer for the part #5 over here\n",
        "def insert_customers(conn):\n",
        "    cursor = conn.cursor()\n",
        "    for i in range(3):\n",
        "        c_id = int(input(f\"Enter C_ID for customer {i+1}: \"))\n",
        "        customer_name = input(f\"Enter Customer_Name for customer {i+1}: \")\n",
        "        customer_last_name = input(f\"Enter Customer_Last_Name for customer {i+1}: \")\n",
        "        cursor.execute(\"INSERT INTO customers (C_ID, Customer_Name, Customer_Last_Name) VALUES (?, ?, ?)\", (c_id, customer_name, customer_last_name))\n",
        "    conn.commit()\n",
        "\n",
        "insert_customers(conn)"
      ]
    },
    {
      "cell_type": "code",
      "execution_count": 59,
      "metadata": {
        "id": "L0CV-dFq0JoU"
      },
      "outputs": [],
      "source": [
        "# Write the the answer for the part #6 over here\n",
        "def insert_borrowers(conn):\n",
        "    cursor = conn.cursor()\n",
        "\n",
        "    # Example borrower data (no user input)\n",
        "    borrower_data = [\n",
        "        (1, 1, 1),  # Book 1 borrowed by customer 1\n",
        "        (2, 2, 2),  # Book 2 borrowed by customer 2\n",
        "    ]\n",
        "\n",
        "    # Insert each record individually\n",
        "    for data in borrower_data:\n",
        "        cursor.execute(\"INSERT INTO borrowers (L_ID, B_ID, C_ID) VALUES (?, ?, ?)\", data)\n",
        "\n",
        "    conn.commit()\n",
        "\n",
        "insert_borrowers(conn)\n"
      ]
    },
    {
      "cell_type": "code",
      "execution_count": 63,
      "metadata": {
        "colab": {
          "base_uri": "https://localhost:8080/"
        },
        "id": "AfGy9PcI0JoU",
        "outputId": "50eaa37c-7fd6-4edc-da06-306f2e8692d7"
      },
      "outputs": [
        {
          "output_type": "stream",
          "name": "stdout",
          "text": [
            "Book deleted successfully.\n"
          ]
        }
      ],
      "source": [
        "# Write the the answer for the part #7 over here\n",
        "def delete_book(conn, b_id):\n",
        "  cursor = conn.cursor()\n",
        "  cursor.execute(\"SELECT * FROM borrowers WHERE B_ID=?\", (b_id,))\n",
        "  borrower = cursor.fetchone()\n",
        "  if borrower:\n",
        "    print(\"Cannot delete book. It is currently borrowed.\")\n",
        "  else:\n",
        "    cursor.execute(\"DELETE FROM books WHERE B_ID=?\", (b_id,))\n",
        "    conn.commit()\n",
        "    print(\"Book deleted successfully.\")\n",
        "\n",
        "delete_book(conn, 3)"
      ]
    },
    {
      "cell_type": "code",
      "execution_count": 67,
      "metadata": {
        "colab": {
          "base_uri": "https://localhost:8080/"
        },
        "id": "SiKrr8Ci0JoU",
        "outputId": "0ab00c6c-7399-4aa6-cb43-4bb28dcc930f"
      },
      "outputs": [
        {
          "output_type": "stream",
          "name": "stdout",
          "text": [
            "(1, 'book1', 1234, 'auth1')\n",
            "(2, 'book2', 2345, 'auth2')\n",
            "(4, 'book4', 4567, 'auth4')\n"
          ]
        }
      ],
      "source": [
        "# Write the the answer for the part #8 over here\n",
        "def search_books(conn, search_term):\n",
        "    cursor = conn.cursor()\n",
        "    cursor.execute(\"SELECT * FROM books WHERE Book_Name LIKE ?\", ('%' + search_term + '%',))\n",
        "    results = cursor.fetchall()\n",
        "\n",
        "    if results:\n",
        "        for row in results:\n",
        "            print(row)\n",
        "    else:\n",
        "        print(\"No books found matching the search term.\")\n",
        "\n",
        "search_books(conn, 'bo')"
      ]
    },
    {
      "cell_type": "code",
      "execution_count": 64,
      "metadata": {
        "colab": {
          "base_uri": "https://localhost:8080/"
        },
        "id": "CPgYup-e0JoU",
        "outputId": "758b2784-29c1-43fc-cd60-ae63a365f239"
      },
      "outputs": [
        {
          "output_type": "stream",
          "name": "stdout",
          "text": [
            "Customer information updated successfully.\n"
          ]
        }
      ],
      "source": [
        "# Write the the answer for the part #9 over here\n",
        "def update_customer(conn, c_id, new_name, new_last_name):\n",
        "    cursor = conn.cursor()\n",
        "    cursor.execute(\"UPDATE customers SET Customer_Name=?, Customer_Last_Name=? WHERE C_ID=?\", (new_name, new_last_name, c_id))\n",
        "    conn.commit()\n",
        "    print(\"Customer information updated successfully.\")\n",
        "\n",
        "update_customer(conn, 1, 'cust1_new', 'cust1_new_last')"
      ]
    },
    {
      "cell_type": "markdown",
      "metadata": {
        "id": "vGp6xQcz0JoU"
      },
      "source": [
        "<p><b>Output</b>:\n",
        "    <ul>\n",
        "        <li>You need to provide answers in the designated cell for each question.</li>\n",
        "        <li>You need to make sure that your final file contains both codes and results (don't clear the outputs).</li>\n",
        "        <li>Save your file in the .ipynb format (as it is right now).</li>\n",
        "        <li>Upload your file into Canvas (Assignment 3)</li>\n",
        "        <li>All the assignments should be submitted by <b>Sun Nov 24 at 11:59 PM</b>. No late submission will be accepted</li>\n",
        "        <li>I will not accept any submission by email or any other method, so make sure that you submit the file in a right place at a right time.</li>\n",
        "        </ul>\n",
        "        </p>"
      ]
    }
  ],
  "metadata": {
    "kernelspec": {
      "display_name": "Python 3 (ipykernel)",
      "language": "python",
      "name": "python3"
    },
    "language_info": {
      "codemirror_mode": {
        "name": "ipython",
        "version": 3
      },
      "file_extension": ".py",
      "mimetype": "text/x-python",
      "name": "python",
      "nbconvert_exporter": "python",
      "pygments_lexer": "ipython3",
      "version": "3.9.10"
    },
    "colab": {
      "provenance": []
    }
  },
  "nbformat": 4,
  "nbformat_minor": 0
}