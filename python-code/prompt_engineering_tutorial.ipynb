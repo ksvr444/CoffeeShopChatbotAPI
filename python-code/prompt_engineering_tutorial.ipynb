{
 "cells": [
  {
   "cell_type": "code",
   "execution_count": 15,
   "metadata": {},
   "outputs": [
    {
     "data": {
      "text/plain": [
       "True"
      ]
     },
     "execution_count": 15,
     "metadata": {},
     "output_type": "execute_result"
    }
   ],
   "source": [
    "from openai import OpenAI\n",
    "import os\n",
    "from dotenv import load_dotenv\n",
    "load_dotenv()"
   ]
  },
  {
   "cell_type": "code",
   "execution_count": 16,
   "metadata": {},
   "outputs": [],
   "source": [
    "client = OpenAI(\n",
    "    api_key=os.getenv('RUNPOD_TOKEN'),\n",
    "    base_url=os.getenv('RUNPOD_CHATBOT_URL')\n",
    ")\n",
    "model_name = os.getenv('MODEL_NAME')"
   ]
  },
  {
   "cell_type": "code",
   "execution_count": 14,
   "metadata": {},
   "outputs": [],
   "source": [
    "response = client.chat.completions.create(\n",
    "    model = model_name,\n",
    "    messages=[\n",
    "        {\"role\": \"user\", \"content\":\"Who is Donald Trump\"}\n",
    "    ],\n",
    "    temperature=0.0,\n",
    "    top_p=0.8,\n",
    "    max_tokens=2000\n",
    ")"
   ]
  },
  {
   "cell_type": "markdown",
   "metadata": {},
   "source": [
    "temperature is something you tweak where it provide how random or how accurate the results should be. temperature = 0 referrs to accurate results"
   ]
  },
  {
   "cell_type": "code",
   "execution_count": 12,
   "metadata": {},
   "outputs": [
    {
     "data": {
      "text/plain": [
       "'Donald John Trump is an American businessman, television personality, and politician who served as the 45th President of the United States from 2017 to 2021. He was born on June 14, 1946, in Queens, New York City.\\n\\nTrump is a member of the Republican Party and is known for his conservative views on issues such as immigration, trade, and national security. He is also known for his controversial and often divisive rhetoric, which has been criticized by many as being divisive and offensive.\\n\\nBefore entering politics, Trump built a business empire through his company, the Trump Organization, which is involved in real estate, hospitality, and entertainment. He also hosted the reality TV show \"The Apprentice\" from 2004 to 2015.\\n\\nTrump\\'s political career began in 2015, when he announced his candidacy for the Republican presidential nomination. He won the nomination in May 2016 and went on to defeat Democratic nominee Hillary Clinton in the general election in November 2016.\\n\\nAs president, Trump implemented a number of policies, including:\\n\\n* Tax cuts: Trump signed the Tax Cuts and Jobs Act in 2017, which lowered corporate and individual tax rates.\\n* Deregulation: Trump signed several executive orders aimed at reducing regulations on businesses and industries.\\n* Immigration: Trump implemented a travel ban targeting several predominantly Muslim countries and sought to build a wall along the U.S.-Mexico border.\\n* Healthcare: Trump sought to repeal and replace the Affordable Care Act (ACA), also known as Obamacare, but was unable to pass a replacement bill.\\n* Foreign policy: Trump withdrew the United States from several international agreements, including the Paris climate accord and the Iran nuclear deal.\\n\\nTrump\\'s presidency was marked by controversy and division, with many criticizing his behavior and policies. He was impeached by the House of Representatives in December 2019 on charges of abuse of power and obstruction of Congress, but was acquitted by the Senate in February 2020.\\n\\nTrump lost the 2020 presidential election to Democratic nominee Joe Biden and left office on January 20, 2021.'"
      ]
     },
     "execution_count": 12,
     "metadata": {},
     "output_type": "execute_result"
    }
   ],
   "source": [
    "response.choices[0].message.content"
   ]
  },
  {
   "cell_type": "code",
   "execution_count": 17,
   "metadata": {},
   "outputs": [],
   "source": [
    "def get_chatbot_response(client, model_name, messages, temperature = 0):\n",
    "    # input_messages = []\n",
    "    # for message in messages:\n",
    "    #     input_messages.append({\"role\":message[\"role\"], \"content\":message[\"content\"]})\n",
    "    \n",
    "    response = client.chat.completions.create(\n",
    "        model = model_name,\n",
    "        messages=messages,\n",
    "        temperature=temperature,\n",
    "        top_p=0.8,\n",
    "        max_tokens=2000\n",
    "    ).choices[0].message.content\n",
    "\n",
    "    return response"
   ]
  },
  {
   "cell_type": "markdown",
   "metadata": {},
   "source": [
    "# Prompt Engineering"
   ]
  },
  {
   "cell_type": "markdown",
   "metadata": {},
   "source": [
    "# Structure Output"
   ]
  },
  {
   "cell_type": "code",
   "execution_count": 18,
   "metadata": {},
   "outputs": [
    {
     "name": "stdout",
     "output_type": "stream",
     "text": [
      "[\n",
      "    {\n",
      "        \"country\": \"Germany\",\n",
      "        \"capital\": \"Berlin\"\n",
      "    }\n",
      "]\n"
     ]
    }
   ],
   "source": [
    "system_promt = \"\"\"\n",
    "    You are a helpful assistant that answers questions about capitals of countries\n",
    "    The output should be in a structured json format exactly like the one below.You are not allowed to write anything other than json object\n",
    "\n",
    "    [\n",
    "    {\n",
    "        \"country\": the country that you will get the capital of\n",
    "        \"capital\": the capital of he country stated above\n",
    "    }\n",
    "    ]\n",
    "\"\"\"\n",
    "\n",
    "messages = [{\"role\":\"system\", \"content\":system_promt}]\n",
    "messages.append({\"role\":\"system\", \"content\":\"What is the capital city of Germany\"})\n",
    "response = get_chatbot_response(client, model_name, messages)\n",
    "print(response)"
   ]
  },
  {
   "cell_type": "code",
   "execution_count": 19,
   "metadata": {},
   "outputs": [],
   "source": [
    "import json\n",
    "json_response = json.loads(response)"
   ]
  },
  {
   "cell_type": "code",
   "execution_count": 20,
   "metadata": {},
   "outputs": [
    {
     "data": {
      "text/plain": [
       "[{'country': 'Germany', 'capital': 'Berlin'}]"
      ]
     },
     "execution_count": 20,
     "metadata": {},
     "output_type": "execute_result"
    }
   ],
   "source": [
    "json_response"
   ]
  },
  {
   "cell_type": "markdown",
   "metadata": {},
   "source": [
    "# Give the model time to think(Chain of thought)"
   ]
  },
  {
   "cell_type": "markdown",
   "metadata": {},
   "source": [
    "break down complex problems into a series of logical steps, mimicking human reasoning processes. This approach involves appending instructions like \"Describe your reasoning in steps\" to queries, encouraging the model to articulate intermediate thought processes rather than just providing a final answer1. CoT prompting has demonstrated significant improvements in model performance across various tasks, including arithmetic, common-sense reasoning, and symbolic manipulation"
   ]
  },
  {
   "cell_type": "code",
   "execution_count": 21,
   "metadata": {},
   "outputs": [
    {
     "name": "stdout",
     "output_type": "stream",
     "text": [
      "{\n",
      "    \"result\": 4\n",
      "}\n"
     ]
    }
   ],
   "source": [
    "user_prompt = \"\"\"\n",
    "Calculate the result of this equation: 1+3\n",
    "\n",
    "You output should be in a structured json format exactly like the one below. You are not allowd to write anything other than the json object\n",
    "{\n",
    "    result: The final number resulted from calculating the equation above.\n",
    "}\n",
    "\"\"\"\n",
    "\n",
    "messages = [{\"role\": \"user\", \"content\": user_prompt}]\n",
    "response = get_chatbot_response(client, model_name, messages)\n",
    "print(response)\n",
    "\n"
   ]
  },
  {
   "cell_type": "markdown",
   "metadata": {},
   "source": [
    "# Retrieval augmented Generation"
   ]
  },
  {
   "cell_type": "code",
   "execution_count": 20,
   "metadata": {},
   "outputs": [
    {
     "name": "stdout",
     "output_type": "stream",
     "text": [
      "There is no such thing as an iPhone 16. Apple has not released an iPhone with that model number. The latest iPhone models available in the market are iPhone 13 series, which includes iPhone 13, iPhone 13 Mini, iPhone 13 Pro, and iPhone 13 Pro Max.\n",
      "\n",
      "However, rumors and leaks about the upcoming iPhone 14 series have been circulating online. Here are some of the rumored features and specifications:\n",
      "\n",
      "* Design: The iPhone 14 series is expected to have a similar design to the iPhone 13 series, but with some minor changes such as a new color option and a slightly smaller notch.\n",
      "* Display: The iPhone 14 Pro models are rumored to have a 120Hz refresh rate display, which would provide a smoother and more responsive user experience.\n",
      "* Cameras: The iPhone 14 Pro models are expected to have a new triple-camera setup with a wider-angle lens, a telephoto lens, and a ultra-wide-angle lens. The camera system is also rumored to have improved low-light performance and better Portrait mode photos.\n",
      "* Battery Life: The iPhone 14 series is expected to have improved battery life, with the iPhone 14 Pro models having up to 12 hours of internet use.\n",
      "* Processor: The iPhone 14 series is expected to be powered by Apple's A15 Bionic chip, which would provide a significant boost in performance and efficiency.\n",
      "* 5G: The iPhone 14 series is expected to support 5G connectivity, which would provide faster data speeds and lower latency.\n",
      "* Biometric Authentication: The iPhone 14 series is expected to have improved Face ID technology, which would provide a more secure and convenient way to unlock the device.\n",
      "\n",
      "It's worth noting that these are just rumors and leaks, and Apple has not officially confirmed any of these features or specifications. We'll have to wait until the official announcement to know more about the iPhone 14 series.\n"
     ]
    }
   ],
   "source": [
    "user_prompt = \"\"\"\n",
    "    Whats new about Iphone 16\n",
    "\"\"\"\n",
    "\n",
    "messages = [{\"role\":\"user\", \"content\": user_prompt}]\n",
    "response = get_chatbot_response(client, model_name, messages)\n",
    "print(response)"
   ]
  },
  {
   "cell_type": "code",
   "execution_count": 6,
   "metadata": {},
   "outputs": [],
   "source": [
    "iphone16 = \"\"\"\n",
    "    Introduced in September 2024, the iPhone 16 and iPhone 16 Plus are Apple's current flagship phones, sold alongside the higher-end iPhone 16 Pro and iPhone 16 Pro Max.\n",
    "\n",
    "The iPhone 16 and iPhone 16 Plus are the right iPhones for most people, and now is a good time to buy. There's an upgraded A18 chip that supports Apple Intelligence, a dual-lens camera system that takes great photos, a Camera Control button for quick camera access, and a customizable Action button.\n",
    "Pricing starts at $799, and the iPhone 16 offers a good balance between functionality and price. If you're looking for a step up, Apple has the iPhone 16 Pro models with upgraded A18 Pro chip, bigger displays, ProMotion display technology, and triple-lens camera system.\n",
    "\n",
    "If you're coming from an iPhone 13 or earlier, the iPhone 16 is an excellent upgrade because you get the new super fast chip and Apple Intelligence support, but you also get prior model features like Crash Detection and Emergency SOS via satellite.\n",
    "\n",
    "For those who want a more affordable device, Apple also offers the $429 iPhone SE with older technology, the prior-generation iPhone 15 and iPhone 15 Plus with prices starting at $699, and the iPhone 14 and iPhone 14 Plus with pricing starting at $599.\n",
    "\n",
    "\"\"\""
   ]
  },
  {
   "cell_type": "code",
   "execution_count": 22,
   "metadata": {},
   "outputs": [
    {
     "name": "stdout",
     "output_type": "stream",
     "text": [
      "According to the text, the following are new features of the iPhone 16:\n",
      "\n",
      "1. Upgraded A18 chip that supports Apple Intelligence\n",
      "2. Dual-lens camera system that takes great photos\n",
      "3. Camera Control button for quick camera access\n",
      "4. Customizable Action button\n",
      "\n",
      "Note that the text also mentions that the iPhone 16 Pro models have additional features, such as an upgraded A18 Pro chip, bigger displays, ProMotion display technology, and a triple-lens camera system, but these are not specific to the iPhone 16, but rather to the Pro models.\n"
     ]
    }
   ],
   "source": [
    "user_prompt = f\"\"\"\n",
    "    {iphone16}\n",
    "    Whats new about Iphone 16\n",
    "\"\"\"\n",
    "\n",
    "messages = [{\"role\":\"user\", \"content\": user_prompt}]\n",
    "response = get_chatbot_response(client, model_name, messages)\n",
    "print(response)"
   ]
  },
  {
   "cell_type": "markdown",
   "metadata": {},
   "source": [
    "# Embedding"
   ]
  },
  {
   "cell_type": "code",
   "execution_count": 8,
   "metadata": {},
   "outputs": [],
   "source": [
    "samsung = \"\"\"\n",
    "\n",
    " Galaxy Tab S6 Lite 2024 has the nearest theater is where you are\n",
    "Less bezel means more room for a bigger, 10.4 inch display on a conveniently compact tablet. Enjoy an impromptu private screening in the park or binge watch in bed with dual speakers in landscape orientation that deliver rich, 3\n",
    "Find your best angle\n",
    "Stand your screen up on one of your cover's two angles for easy viewing. Whether you’re lounging on the couch or sitting at a cafe, simply adjust the screen to watch all your favorite content with added comfort.\n",
    "Get ready for crunch time with study hacks\n",
    "Keeping up with lectures is a breeze with S Pen. When taking notes, you can jot first and change colours later. Quickly sort through memos when you save with searchable tags. Even write directly onto PDFs to cut the study clutter. When it's finally crunch time, you'll be organized and ready.\n",
    "Speed + Memory + Power = Epic Races\n",
    "Blast through race after race on a tablet that wins. Load quickly, run smoothly and stay connected while grabbing fast LTE & Wi-Fi speeds. Don't worry about running out of steam with long-lasting battery life. Have more space to save your content and files with expandable microSD.\n",
    "\"\"\""
   ]
  },
  {
   "cell_type": "code",
   "execution_count": 9,
   "metadata": {},
   "outputs": [],
   "source": [
    "data = [iphone16, samsung]\n",
    "user_prompt = \"Whats new in Iphone 16\""
   ]
  },
  {
   "cell_type": "code",
   "execution_count": 2,
   "metadata": {},
   "outputs": [],
   "source": [
    "embedding_client = OpenAI(\n",
    "    api_key=os.getenv(\"RUNPOD_EMBEDDING_TOKEN\"),\n",
    "    base_url=os.getenv(\"RUNPOD_EMBEDDING_URL\")\n",
    ")"
   ]
  },
  {
   "cell_type": "code",
   "execution_count": 3,
   "metadata": {},
   "outputs": [
    {
     "data": {
      "text/plain": [
       "'https://api.runpod.ai/v2/tfnp6d22easxbs/openai/v1'"
      ]
     },
     "execution_count": 3,
     "metadata": {},
     "output_type": "execute_result"
    }
   ],
   "source": [
    "os.getenv(\"RUNPOD_EMBEDDING_URL\")"
   ]
  },
  {
   "cell_type": "code",
   "execution_count": 4,
   "metadata": {},
   "outputs": [],
   "source": [
    "def get_embeddings(embedding_client, model_name, text_input):\n",
    "    output = embedding_client.embeddings.create(input=text_input, model=model_name)\n",
    "\n",
    "    embeddings=[]\n",
    "    for embedding_object in output.data:\n",
    "        embeddings.append(embedding_object.embedding)\n",
    "    \n",
    "    return embeddings"
   ]
  },
  {
   "cell_type": "code",
   "execution_count": 12,
   "metadata": {},
   "outputs": [
    {
     "data": {
      "text/plain": [
       "[-0.053296323865652084,\n",
       " -0.03581561893224716,\n",
       " 0.05152689665555954,\n",
       " -0.007992923259735107,\n",
       " -0.02937856875360012,\n",
       " -0.02353641390800476,\n",
       " 0.007565820589661598,\n",
       " 0.03188017010688782,\n",
       " 0.00866408459842205,\n",
       " 0.03181915730237961,\n",
       " 0.054882705211639404,\n",
       " 0.01926538534462452,\n",
       " -0.0837731584906578,\n",
       " -0.007047195918858051,\n",
       " 0.09353550523519516,\n",
       " 0.029027733951807022,\n",
       " 0.12465299665927887,\n",
       " -0.13374418020248413,\n",
       " -0.09042375534772873,\n",
       " 0.02373471111059189,\n",
       " 0.002074499148875475,\n",
       " -0.01711461879312992,\n",
       " -0.02908874861896038,\n",
       " -0.03081241436302662,\n",
       " 0.016428202390670776,\n",
       " 0.05103877931833267,\n",
       " 0.008420025929808617,\n",
       " -0.0173281691968441,\n",
       " -0.01789255440235138,\n",
       " -0.14448276162147522,\n",
       " 0.010418256744742393,\n",
       " -0.008488667197525501,\n",
       " 0.010555540211498737,\n",
       " 0.010059795342385769,\n",
       " 0.0006068100919947028,\n",
       " -0.04127643257379532,\n",
       " -0.006745935883373022,\n",
       " 0.03920193389058113,\n",
       " -0.015436714515089989,\n",
       " 0.06003844738006592,\n",
       " 0.023277100175619125,\n",
       " 0.08670186251401901,\n",
       " -0.0938405767083168,\n",
       " -0.02539736032485962,\n",
       " 0.04606608301401138,\n",
       " 0.01068519614636898,\n",
       " 0.018884044140577316,\n",
       " -0.021263616159558296,\n",
       " 0.03721895441412926,\n",
       " -0.03602916747331619,\n",
       " 0.040025629103183746,\n",
       " -0.002061152132228017,\n",
       " 0.013880839571356773,\n",
       " -0.05274719372391701,\n",
       " 0.005529455374926329,\n",
       " -0.005068032070994377,\n",
       " 0.001136398408561945,\n",
       " 0.04155099764466286,\n",
       " 0.056469086557626724,\n",
       " 0.04252723231911659,\n",
       " 0.08670186251401901,\n",
       " -0.010700449347496033,\n",
       " -0.1631532609462738,\n",
       " 0.08932549506425858,\n",
       " 0.01674853079020977,\n",
       " 0.01819762960076332,\n",
       " -0.03816468268632889,\n",
       " -0.1061045303940773,\n",
       " 0.016351934522390366,\n",
       " -0.06412643194198608,\n",
       " -0.014460479840636253,\n",
       " 0.024375366047024727,\n",
       " 0.04661521688103676,\n",
       " 0.052655670791864395,\n",
       " -0.011592789553105831,\n",
       " -0.01378169097006321,\n",
       " 0.0671161487698555,\n",
       " 0.014887582510709763,\n",
       " -0.050276096910238266,\n",
       " 0.018731506541371346,\n",
       " 0.05897068977355957,\n",
       " 0.016351934522390366,\n",
       " 0.017358677461743355,\n",
       " 0.007165411487221718,\n",
       " 0.0346563383936882,\n",
       " -0.045516952872276306,\n",
       " -0.02121785469353199,\n",
       " 0.008206474594771862,\n",
       " 0.007611581590026617,\n",
       " -0.07602429389953613,\n",
       " 0.008214101195335388,\n",
       " -0.031727634370326996,\n",
       " 0.050489649176597595,\n",
       " 0.03191067650914192,\n",
       " -0.11275513470172882,\n",
       " 0.04411361366510391,\n",
       " 0.02561091259121895,\n",
       " -0.04893377423286438,\n",
       " -0.040086645632982254,\n",
       " 0.35827821493148804,\n",
       " -0.017053604125976562,\n",
       " 0.04127643257379532,\n",
       " 0.03282589837908745,\n",
       " -0.028981974348425865,\n",
       " 0.030156506225466728,\n",
       " -0.03804265335202217,\n",
       " -0.016794290393590927,\n",
       " -0.035693589597940445,\n",
       " -0.03276488557457924,\n",
       " 0.05732329189777374,\n",
       " 0.0029229845385998487,\n",
       " -0.017236648127436638,\n",
       " 0.05948931351304054,\n",
       " 0.00855730939656496,\n",
       " -0.02222459763288498,\n",
       " -0.025641418993473053,\n",
       " 0.05869612470269203,\n",
       " 0.037432506680488586,\n",
       " 0.03904939442873001,\n",
       " 0.04951341450214386,\n",
       " 0.0028753168880939484,\n",
       " 0.008511547930538654,\n",
       " -0.005148113705217838,\n",
       " 0.003685668110847473,\n",
       " 0.0060671474784612656,\n",
       " -0.012546143494546413,\n",
       " 0.001348043093457818,\n",
       " 0.05381494760513306,\n",
       " -0.008992038667201996,\n",
       " 0.01848744787275791,\n",
       " 0.021263616159558296,\n",
       " 0.012080906890332699,\n",
       " -0.05839104950428009,\n",
       " 0.046432171016931534,\n",
       " 0.03300894424319267,\n",
       " -0.021599197760224342,\n",
       " 0.005037524737417698,\n",
       " 0.0016216557705774903,\n",
       " 0.013758810237050056,\n",
       " -0.004171879030764103,\n",
       " -0.06040453538298607,\n",
       " -0.043839048594236374,\n",
       " 0.08072242140769958,\n",
       " -0.09121695160865784,\n",
       " 0.014712165109813213,\n",
       " 0.04243570938706398,\n",
       " -0.011928370222449303,\n",
       " 0.039079904556274414,\n",
       " -0.0046333023346960545,\n",
       " 0.0404222272336483,\n",
       " -0.02452790178358555,\n",
       " 0.10006407648324966,\n",
       " 0.03088868223130703,\n",
       " 0.006437048781663179,\n",
       " 0.009861498139798641,\n",
       " 0.0014891395112499595,\n",
       " -0.018075600266456604,\n",
       " -0.038652800023555756,\n",
       " -0.015818055719137192,\n",
       " 0.07980719953775406,\n",
       " -0.0008813761523924768,\n",
       " 0.00816071406006813,\n",
       " -0.04206962138414383,\n",
       " -0.02908874861896038,\n",
       " 0.007230239920318127,\n",
       " -0.15631961822509766,\n",
       " 0.0038782455958426,\n",
       " 0.05372342839837074,\n",
       " -0.024451633915305138,\n",
       " -0.002320464700460434,\n",
       " -0.03001922369003296,\n",
       " -0.0077564911916852,\n",
       " 0.009693707339465618,\n",
       " -0.030980205163359642,\n",
       " 0.05796394869685173,\n",
       " -0.017343422397971153,\n",
       " 0.027914216741919518,\n",
       " 0.08535953611135483,\n",
       " -0.0053235311061143875,\n",
       " 0.013461364433169365,\n",
       " -0.01565026491880417,\n",
       " -0.0375545360147953,\n",
       " -0.09262028336524963,\n",
       " 0.04347296059131622,\n",
       " 0.05045914277434349,\n",
       " -0.03306995704770088,\n",
       " 0.02028738148510456,\n",
       " -0.016916319727897644,\n",
       " 0.09005767107009888,\n",
       " -0.018365418538451195,\n",
       " 0.026953235268592834,\n",
       " 0.04539492353796959,\n",
       " -0.07236341387033463,\n",
       " 0.06290613859891891,\n",
       " -0.03840874135494232,\n",
       " -0.01057079341262579,\n",
       " 0.0023852926678955555,\n",
       " 0.023048296570777893,\n",
       " 0.008389518596231937,\n",
       " -0.05747583135962486,\n",
       " 0.0310259647667408,\n",
       " 0.010296227410435677,\n",
       " 0.016916319727897644,\n",
       " 0.03718844801187515,\n",
       " 0.05924525484442711,\n",
       " -0.013202051632106304,\n",
       " 0.00816071406006813,\n",
       " -0.05759786069393158,\n",
       " 0.03001922369003296,\n",
       " 0.013629154302179813,\n",
       " -0.014559628441929817,\n",
       " 0.0043663629330694675,\n",
       " 0.10268770903348923,\n",
       " -0.014780806377530098,\n",
       " 0.005098539404571056,\n",
       " -0.06833644211292267,\n",
       " -0.020226366817951202,\n",
       " 0.046096593141555786,\n",
       " -0.039079904556274414,\n",
       " -0.036822360008955,\n",
       " -0.005235822405666113,\n",
       " 0.06162482872605324,\n",
       " 0.03081241436302662,\n",
       " -0.2835962474346161,\n",
       " 0.03694438934326172,\n",
       " -0.003384408075362444,\n",
       " -0.08133257180452347,\n",
       " -0.016367187723517418,\n",
       " -0.03853077068924904,\n",
       " 0.005872663110494614,\n",
       " -0.04408310726284981,\n",
       " 0.07761067152023315,\n",
       " 0.04664572328329086,\n",
       " -0.02770066447556019,\n",
       " 0.016565486788749695,\n",
       " 0.05009305477142334,\n",
       " 0.017129871994256973,\n",
       " 0.055462345480918884,\n",
       " 0.033741120249032974,\n",
       " 0.010875866748392582,\n",
       " -0.04972696676850319,\n",
       " 0.041764549911022186,\n",
       " 0.000304120039800182,\n",
       " -0.03471735492348671,\n",
       " 0.022499164566397667,\n",
       " 0.024634677916765213,\n",
       " 0.00655145151540637,\n",
       " 0.01404100377112627,\n",
       " -0.08426127582788467,\n",
       " 0.05817749723792076,\n",
       " 0.0022461030166596174,\n",
       " 0.0007212125929072499,\n",
       " 0.03059886209666729,\n",
       " 0.031239517033100128,\n",
       " 0.055035240948200226,\n",
       " -0.028265051543712616,\n",
       " -0.13179171085357666,\n",
       " -0.001692204037681222,\n",
       " 0.0331919863820076,\n",
       " 0.02916501834988594,\n",
       " 0.05216755345463753,\n",
       " -0.06104518845677376,\n",
       " -0.0873120054602623,\n",
       " 0.00040279224049299955,\n",
       " 0.019829770550131798,\n",
       " 0.048171091824769974,\n",
       " -0.08468838036060333,\n",
       " 0.0299429539591074,\n",
       " -0.005209128372371197,\n",
       " -0.006768816150724888,\n",
       " 0.03343604505062103,\n",
       " -0.046432171016931534,\n",
       " -0.025717688724398613,\n",
       " 0.03718844801187515,\n",
       " 0.0030316670890897512,\n",
       " 0.07376675307750702,\n",
       " 0.030919190496206284,\n",
       " 0.05982489511370659,\n",
       " -0.029134510084986687,\n",
       " -0.061319753527641296,\n",
       " -0.002863876521587372,\n",
       " 0.015772294253110886,\n",
       " 0.00353694474324584,\n",
       " -0.039507005363702774,\n",
       " 0.0005434119957499206,\n",
       " -0.052503135055303574,\n",
       " -0.08249185234308243,\n",
       " 0.018289150670170784,\n",
       " -0.0040422226302325726,\n",
       " -0.03306995704770088,\n",
       " -0.11964979022741318,\n",
       " -0.05067269131541252,\n",
       " -0.09323043376207352,\n",
       " 0.00895390473306179,\n",
       " -0.002011577831581235,\n",
       " -0.013758810237050056,\n",
       " 0.020683977752923965,\n",
       " 0.016901066526770592,\n",
       " -0.015787549316883087,\n",
       " 0.0663839727640152,\n",
       " 0.028524363413453102,\n",
       " 0.029119256883859634,\n",
       " -0.02677019126713276,\n",
       " -0.012851216830313206,\n",
       " 0.10592148452997208,\n",
       " 0.03529699146747589,\n",
       " -0.017556974664330482,\n",
       " -0.007516245823353529,\n",
       " 0.03404619172215462,\n",
       " 0.05738430842757225,\n",
       " -0.03917142376303673,\n",
       " 0.022255105897784233,\n",
       " -0.035113949328660965,\n",
       " -0.008717472665011883,\n",
       " -0.04725586995482445,\n",
       " 0.005731566809117794,\n",
       " -0.08499345183372498,\n",
       " 0.06772629916667938,\n",
       " -0.007272187154740095,\n",
       " -0.19439277052879333,\n",
       " -0.0009323806152679026,\n",
       " 0.027837948873639107,\n",
       " 0.009579304605722427,\n",
       " -0.04798804596066475,\n",
       " -0.018868790939450264,\n",
       " 0.020195860415697098,\n",
       " -0.021904271095991135,\n",
       " -0.032002199441194534,\n",
       " 0.038225699216127396,\n",
       " -0.054303064942359924,\n",
       " -0.028600631281733513,\n",
       " 0.002574056852608919,\n",
       " -0.025732941925525665,\n",
       " -0.02027212828397751,\n",
       " 0.015062999911606312,\n",
       " 0.10293176770210266,\n",
       " 0.006887032184749842,\n",
       " 0.017236648127436638,\n",
       " 0.012477502226829529,\n",
       " -0.025961747393012047,\n",
       " -0.03404619172215462,\n",
       " 0.10152842849493027,\n",
       " -0.054303064942359924,\n",
       " -0.024771960452198982,\n",
       " 0.040391720831394196,\n",
       " 0.01378169097006321,\n",
       " 0.016184143722057343,\n",
       " -0.006917539518326521,\n",
       " 0.02620580606162548,\n",
       " 0.014559628441929817,\n",
       " 0.007684036623686552,\n",
       " 0.03505293279886246,\n",
       " 0.023841487243771553,\n",
       " -0.021095825359225273,\n",
       " -0.020409410819411278,\n",
       " -0.04569999501109123,\n",
       " -0.032154738903045654,\n",
       " -0.02497025765478611,\n",
       " 0.039690051227808,\n",
       " -0.04307636618614197,\n",
       " 0.003119375556707382,\n",
       " -0.13520853221416473,\n",
       " 0.02202630043029785,\n",
       " 0.05903170257806778,\n",
       " -0.06321121007204056,\n",
       " -0.04487629979848862,\n",
       " 0.026221059262752533,\n",
       " -0.030766652897000313,\n",
       " -0.021675465628504753,\n",
       " -0.01515452191233635,\n",
       " -0.04036121070384979,\n",
       " -0.00093810074031353,\n",
       " 0.023643188178539276,\n",
       " 0.04872022196650505,\n",
       " 8.163096936186776e-06,\n",
       " -0.01754172146320343,\n",
       " -0.05717075616121292,\n",
       " 0.038866352289915085,\n",
       " 0.025671927258372307,\n",
       " 0.025092286989092827,\n",
       " -0.002696086186915636,\n",
       " -0.05866561457514763,\n",
       " 0.012546143494546413,\n",
       " -0.0045837280340492725]"
      ]
     },
     "execution_count": 12,
     "metadata": {},
     "output_type": "execute_result"
    }
   ],
   "source": [
    "user_prompt_embeddings = get_embeddings(embedding_client, \"BAAI/bge-small-en-v1.5\", user_prompt)[0]\n",
    "user_prompt_embeddings"
   ]
  },
  {
   "cell_type": "code",
   "execution_count": 19,
   "metadata": {},
   "outputs": [],
   "source": [
    "data_embeddings = [get_embeddings(embedding_client, \"BAAI/bge-small-en-v1.5\", text)[0] for text in data]"
   ]
  },
  {
   "cell_type": "code",
   "execution_count": null,
   "metadata": {},
   "outputs": [],
   "source": [
    "from sklearn.metrics.pairwise import cosine_similarity\n",
    "\n",
    "data_similarity = cosine_similarity([user_prompt_embeddings], data_embeddings)"
   ]
  },
  {
   "cell_type": "code",
   "execution_count": null,
   "metadata": {},
   "outputs": [
    {
     "data": {
      "text/plain": [
       "array([[0.78726928, 0.55267717]])"
      ]
     },
     "execution_count": 24,
     "metadata": {},
     "output_type": "execute_result"
    }
   ],
   "source": [
    "data_similarity\n",
    "#This means that the user prompt closely refers to the frist data"
   ]
  },
  {
   "cell_type": "code",
   "execution_count": 25,
   "metadata": {},
   "outputs": [
    {
     "data": {
      "text/plain": [
       "np.int64(0)"
      ]
     },
     "execution_count": 25,
     "metadata": {},
     "output_type": "execute_result"
    }
   ],
   "source": [
    "closest_entry_index = data_similarity.argmax()\n",
    "closest_entry_index"
   ]
  },
  {
   "cell_type": "code",
   "execution_count": 26,
   "metadata": {},
   "outputs": [
    {
     "data": {
      "text/plain": [
       "\"\\n    Introduced in September 2024, the iPhone 16 and iPhone 16 Plus are Apple's current flagship phones, sold alongside the higher-end iPhone 16 Pro and iPhone 16 Pro Max.\\n\\nThe iPhone 16 and iPhone 16 Plus are the right iPhones for most people, and now is a good time to buy. There's an upgraded A18 chip that supports Apple Intelligence, a dual-lens camera system that takes great photos, a Camera Control button for quick camera access, and a customizable Action button.\\nPricing starts at $799, and the iPhone 16 offers a good balance between functionality and price. If you're looking for a step up, Apple has the iPhone 16 Pro models with upgraded A18 Pro chip, bigger displays, ProMotion display technology, and triple-lens camera system.\\n\\nIf you're coming from an iPhone 13 or earlier, the iPhone 16 is an excellent upgrade because you get the new super fast chip and Apple Intelligence support, but you also get prior model features like Crash Detection and Emergency SOS via satellite.\\n\\nFor those who want a more affordable device, Apple also offers the $429 iPhone SE with older technology, the prior-generation iPhone 15 and iPhone 15 Plus with prices starting at $699, and the iPhone 14 and iPhone 14 Plus with pricing starting at $599.\\n\\n\""
      ]
     },
     "execution_count": 26,
     "metadata": {},
     "output_type": "execute_result"
    }
   ],
   "source": [
    "data[closest_entry_index]"
   ]
  },
  {
   "cell_type": "code",
   "execution_count": null,
   "metadata": {},
   "outputs": [
    {
     "data": {
      "text/plain": [
       "\"\\n \\n    Introduced in September 2024, the iPhone 16 and iPhone 16 Plus are Apple's current flagship phones, sold alongside the higher-end iPhone 16 Pro and iPhone 16 Pro Max.\\n\\nThe iPhone 16 and iPhone 16 Plus are the right iPhones for most people, and now is a good time to buy. There's an upgraded A18 chip that supports Apple Intelligence, a dual-lens camera system that takes great photos, a Camera Control button for quick camera access, and a customizable Action button.\\nPricing starts at $799, and the iPhone 16 offers a good balance between functionality and price. If you're looking for a step up, Apple has the iPhone 16 Pro models with upgraded A18 Pro chip, bigger displays, ProMotion display technology, and triple-lens camera system.\\n\\nIf you're coming from an iPhone 13 or earlier, the iPhone 16 is an excellent upgrade because you get the new super fast chip and Apple Intelligence support, but you also get prior model features like Crash Detection and Emergency SOS via satellite.\\n\\nFor those who want a more affordable device, Apple also offers the $429 iPhone SE with older technology, the prior-generation iPhone 15 and iPhone 15 Plus with prices starting at $699, and the iPhone 14 and iPhone 14 Plus with pricing starting at $599.\\n\\n\\n\\nWhats new in Iphone 16\\n\""
      ]
     },
     "execution_count": 29,
     "metadata": {},
     "output_type": "execute_result"
    }
   ],
   "source": [
    "user_prompt_with_data = f\"\"\"\n",
    " {data[closest_entry_index]}\n",
    "\n",
    "{user_prompt}\n",
    "\"\"\"\n",
    "user_prompt_with_data"
   ]
  },
  {
   "cell_type": "code",
   "execution_count": 35,
   "metadata": {},
   "outputs": [
    {
     "name": "stdout",
     "output_type": "stream",
     "text": [
      "According to the text, the new features in the iPhone 16 and iPhone 16 Plus include:\n",
      "\n",
      "1. Upgraded A18 chip that supports Apple Intelligence\n",
      "2. Dual-lens camera system that takes great photos\n",
      "3. Camera Control button for quick camera access\n",
      "4. Customizable Action button\n",
      "\n",
      "Note that the iPhone 16 Pro and iPhone 16 Pro Max have additional features, including:\n",
      "\n",
      "1. Upgraded A18 Pro chip\n",
      "2. Bigger displays\n",
      "3. ProMotion display technology\n",
      "4. Triple-lens camera system\n"
     ]
    }
   ],
   "source": [
    "messages = [{\"role\":\"user\", \"content\": user_prompt_with_data}]\n",
    "response = get_chatbot_response(client, model_name, messages)\n",
    "print(response)"
   ]
  },
  {
   "cell_type": "code",
   "execution_count": null,
   "metadata": {},
   "outputs": [],
   "source": []
  }
 ],
 "metadata": {
  "kernelspec": {
   "display_name": ".venv",
   "language": "python",
   "name": "python3"
  },
  "language_info": {
   "codemirror_mode": {
    "name": "ipython",
    "version": 3
   },
   "file_extension": ".py",
   "mimetype": "text/x-python",
   "name": "python",
   "nbconvert_exporter": "python",
   "pygments_lexer": "ipython3",
   "version": "3.9.6"
  }
 },
 "nbformat": 4,
 "nbformat_minor": 2
}
