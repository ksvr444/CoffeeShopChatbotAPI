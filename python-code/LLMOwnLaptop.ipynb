{
 "cells": [
  {
   "cell_type": "markdown",
   "id": "3be2c3d7-e637-4ca0-b823-1442ce1ef014",
   "metadata": {},
   "source": [
    "# Running an LLM on your own laptop\n",
    "In this notebook, we're going to learn how to run a Hugging Face LLM on our own machine.\n",
    "https://www.youtube.com/watch?v=Ay5K4tog5NQ\n"
   ]
  },
  {
   "cell_type": "markdown",
   "id": "0c88379d-de11-4f6b-b3b2-dd1c86ec1f2d",
   "metadata": {},
   "source": [
    "## Download the LLM\n",
    "We're going to write some code to manually download the model."
   ]
  },
  {
   "cell_type": "code",
   "execution_count": 1,
   "id": "5eba955c-10f9-435a-8f5c-a4f3148214f6",
   "metadata": {
    "execution": {
     "iopub.execute_input": "2023-07-31T21:47:04.712381Z",
     "iopub.status.busy": "2023-07-31T21:47:04.711940Z",
     "iopub.status.idle": "2023-07-31T21:47:04.716609Z",
     "shell.execute_reply": "2023-07-31T21:47:04.714945Z",
     "shell.execute_reply.started": "2023-07-31T21:47:04.712355Z"
    }
   },
   "outputs": [
    {
     "name": "stderr",
     "output_type": "stream",
     "text": [
      "/Volumes/D/AI/CoffeeShopApp/.venv/lib/python3.9/site-packages/urllib3/__init__.py:35: NotOpenSSLWarning: urllib3 v2 only supports OpenSSL 1.1.1+, currently the 'ssl' module is compiled with 'LibreSSL 2.8.3'. See: https://github.com/urllib3/urllib3/issues/3020\n",
      "  warnings.warn(\n",
      "/Volumes/D/AI/CoffeeShopApp/.venv/lib/python3.9/site-packages/tqdm/auto.py:21: TqdmWarning: IProgress not found. Please update jupyter and ipywidgets. See https://ipywidgets.readthedocs.io/en/stable/user_install.html\n",
      "  from .autonotebook import tqdm as notebook_tqdm\n"
     ]
    }
   ],
   "source": [
    "import os\n",
    "from huggingface_hub import hf_hub_download "
   ]
  },
  {
   "cell_type": "code",
   "execution_count": 2,
   "id": "ce58610b",
   "metadata": {},
   "outputs": [
    {
     "data": {
      "text/plain": [
       "True"
      ]
     },
     "execution_count": 2,
     "metadata": {},
     "output_type": "execute_result"
    }
   ],
   "source": [
    "from dotenv import load_dotenv\n",
    "load_dotenv()"
   ]
  },
  {
   "cell_type": "code",
   "execution_count": 3,
   "id": "e1769883-5d03-45a6-89a4-53d97a2b31cb",
   "metadata": {
    "execution": {
     "iopub.execute_input": "2023-07-31T21:47:11.801528Z",
     "iopub.status.busy": "2023-07-31T21:47:11.801087Z",
     "iopub.status.idle": "2023-07-31T21:47:11.806484Z",
     "shell.execute_reply": "2023-07-31T21:47:11.805533Z",
     "shell.execute_reply.started": "2023-07-31T21:47:11.801503Z"
    }
   },
   "outputs": [],
   "source": [
    "HUGGING_FACE_API_KEY = os.getenv(\"HUGGING_FACE_API_KEY\")"
   ]
  },
  {
   "cell_type": "code",
   "execution_count": 4,
   "id": "f5d4a3cf-3aef-48a2-9d9c-c0e6f47b8ae9",
   "metadata": {
    "execution": {
     "iopub.execute_input": "2023-07-31T21:47:35.032925Z",
     "iopub.status.busy": "2023-07-31T21:47:35.032483Z",
     "iopub.status.idle": "2023-07-31T21:47:35.036911Z",
     "shell.execute_reply": "2023-07-31T21:47:35.035883Z",
     "shell.execute_reply.started": "2023-07-31T21:47:35.032900Z"
    }
   },
   "outputs": [],
   "source": [
    "model_id = \"meta-llama/Meta-Llama-3-8B-Instruct\"\n",
    "filenames = [\n",
    "        \".gitattributes\", \"LICENSE\", \"README.md\", \"USE_POLICY.md\", \"config.json\", \"generation_config.json\", \n",
    "        \"model-00001-of-00004.safetensors\", \"model-00002-of-00004.safetensors\", \"model-00003-of-00004.safetensors\", \n",
    "        \"model-00004-of-00004.safetensors\", \"model.safetensors.index.json\", \"special_tokens_map.json\", \"tokenizer.json\", \"tokenizer_config.json\"\n",
    "\n",
    "]"
   ]
  },
  {
   "cell_type": "markdown",
   "id": "6894d78e",
   "metadata": {},
   "source": [
    "Local machine could handle 3b-7b parameters"
   ]
  },
  {
   "cell_type": "code",
   "execution_count": 4,
   "id": "876a1b38",
   "metadata": {},
   "outputs": [],
   "source": [
    "model_id = \"lmsys/fastchat-t5-3b-v1.0\"\n",
    "filenames = [\n",
    "        \"pytorch_model.bin\", \"added_tokens.json\", \"config.json\", \"generation_config.json\", \n",
    "        \"special_tokens_map.json\", \"spiece.model\", \"tokenizer_config.json\"\n",
    "]"
   ]
  },
  {
   "cell_type": "code",
   "execution_count": 8,
   "id": "8de36f22-0e89-4add-9c2b-bbb34c4d9d26",
   "metadata": {
    "execution": {
     "iopub.execute_input": "2023-07-31T21:47:59.770152Z",
     "iopub.status.busy": "2023-07-31T21:47:59.769784Z",
     "iopub.status.idle": "2023-07-31T21:48:00.700964Z",
     "shell.execute_reply": "2023-07-31T21:48:00.700440Z",
     "shell.execute_reply.started": "2023-07-31T21:47:59.770133Z"
    }
   },
   "outputs": [
    {
     "name": "stdout",
     "output_type": "stream",
     "text": [
      "/Users/saivenkatreddykopparthi/.cache/huggingface/hub/models--lmsys--fastchat-t5-3b-v1.0/snapshots/0b1da230a891854102d749b93f7ddf1f18a81024/pytorch_model.bin\n",
      "/Users/saivenkatreddykopparthi/.cache/huggingface/hub/models--lmsys--fastchat-t5-3b-v1.0/snapshots/0b1da230a891854102d749b93f7ddf1f18a81024/added_tokens.json\n",
      "/Users/saivenkatreddykopparthi/.cache/huggingface/hub/models--lmsys--fastchat-t5-3b-v1.0/snapshots/0b1da230a891854102d749b93f7ddf1f18a81024/config.json\n",
      "/Users/saivenkatreddykopparthi/.cache/huggingface/hub/models--lmsys--fastchat-t5-3b-v1.0/snapshots/0b1da230a891854102d749b93f7ddf1f18a81024/generation_config.json\n",
      "/Users/saivenkatreddykopparthi/.cache/huggingface/hub/models--lmsys--fastchat-t5-3b-v1.0/snapshots/0b1da230a891854102d749b93f7ddf1f18a81024/special_tokens_map.json\n",
      "/Users/saivenkatreddykopparthi/.cache/huggingface/hub/models--lmsys--fastchat-t5-3b-v1.0/snapshots/0b1da230a891854102d749b93f7ddf1f18a81024/spiece.model\n",
      "/Users/saivenkatreddykopparthi/.cache/huggingface/hub/models--lmsys--fastchat-t5-3b-v1.0/snapshots/0b1da230a891854102d749b93f7ddf1f18a81024/tokenizer_config.json\n"
     ]
    }
   ],
   "source": [
    "for filename in filenames:\n",
    "        downloaded_model_path = hf_hub_download(\n",
    "                    repo_id=model_id,\n",
    "                    filename=filename,\n",
    "                    token=HUGGING_FACE_API_KEY\n",
    "        )\n",
    "        print(downloaded_model_path)"
   ]
  },
  {
   "cell_type": "markdown",
   "id": "d62a4a88",
   "metadata": {},
   "source": [
    "All the models are downloaded to Home/ .cache folder"
   ]
  },
  {
   "cell_type": "code",
   "execution_count": 5,
   "id": "ba850f47-09e6-4b3d-9042-e4df427b0f09",
   "metadata": {
    "execution": {
     "iopub.execute_input": "2023-07-31T21:49:12.517620Z",
     "iopub.status.busy": "2023-07-31T21:49:12.517270Z",
     "iopub.status.idle": "2023-07-31T21:49:40.777536Z",
     "shell.execute_reply": "2023-07-31T21:49:40.777150Z",
     "shell.execute_reply.started": "2023-07-31T21:49:12.517594Z"
    }
   },
   "outputs": [
    {
     "name": "stderr",
     "output_type": "stream",
     "text": [
      "Loading checkpoint shards: 100%|██████████| 4/4 [01:00<00:00, 15.11s/it]\n"
     ]
    }
   ],
   "source": [
    "# For Lamma\n",
    "from transformers import AutoTokenizer, AutoModelForCausalLM, pipeline\n",
    "\n",
    "tokenizer = AutoTokenizer.from_pretrained(model_id, legacy=False)\n",
    "model = AutoModelForCausalLM.from_pretrained(model_id)\n",
    "\n",
    "# Set pad_token_id to eos_token_id for compatibility\n",
    "tokenizer.pad_token_id = tokenizer.eos_token_id\n",
    "\n",
    "pipeline = pipeline(\"text-generation\", model=model, device=-1, tokenizer=tokenizer, max_length=1000)"
   ]
  },
  {
   "cell_type": "markdown",
   "id": "b91331c3",
   "metadata": {},
   "source": [
    "Those models are pulled automatically from the .cache folder from the above and below code."
   ]
  },
  {
   "cell_type": "code",
   "execution_count": 5,
   "id": "d847f117",
   "metadata": {},
   "outputs": [],
   "source": [
    "# for lmsys/fastchat-t5-3b-v1.0\n",
    "from transformers import AutoTokenizer, pipeline, AutoModelForSeq2SeqLM\n",
    "\n",
    "tokenizer = AutoTokenizer.from_pretrained(model_id, legacy=False, use_fast=False)\n",
    "model = AutoModelForSeq2SeqLM.from_pretrained(model_id)\n",
    "\n",
    "pipeline = pipeline(\"text2text-generation\", model=model, device=-1, tokenizer=tokenizer, max_length=1000)"
   ]
  },
  {
   "cell_type": "markdown",
   "metadata": {},
   "source": [
    "In Hugging Face's `pipeline` function, the `device` parameter specifies where the model should run (e.g., on a CPU or GPU). Here's what `device=-1` means:\n",
    "\n",
    "### **Explanation of `device=-1`**\n",
    "- `device=-1`: Tells the pipeline to use the **CPU** for inference.\n",
    "- `device=0` (or any positive integer): Specifies the **GPU** to use for inference. For example:\n",
    "  - `device=0`: Use the first GPU.\n",
    "  - `device=1`: Use the second GPU (if multiple GPUs are available).\n",
    "\n",
    "### **Why Use `device=-1`?**\n",
    "- **When a GPU is unavailable**: If your system doesn't have a GPU or CUDA isn't set up, setting `device=-1` ensures the model runs on the CPU.\n",
    "- **Testing or development**: CPU is often used for small-scale testing or development since it's simpler to set up and doesn't require GPU-specific configurations."
   ]
  },
  {
   "cell_type": "code",
   "execution_count": null,
   "id": "93138286-8497-4730-9da4-3f52390bd380",
   "metadata": {
    "execution": {
     "iopub.execute_input": "2023-07-31T21:49:52.818571Z",
     "iopub.status.busy": "2023-07-31T21:49:52.817832Z",
     "iopub.status.idle": "2023-07-31T21:50:03.906446Z",
     "shell.execute_reply": "2023-07-31T21:50:03.906151Z",
     "shell.execute_reply.started": "2023-07-31T21:49:52.818537Z"
    }
   },
   "outputs": [
    {
     "data": {
      "text/plain": [
       "[{'generated_text': '-'}]"
      ]
     },
     "execution_count": 12,
     "metadata": {},
     "output_type": "execute_result"
    }
   ],
   "source": [
    "pipeline(\"\")"
   ]
  },
  {
   "cell_type": "code",
   "execution_count": 20,
   "id": "ca79ce5d-2e44-446c-a899-d9ecc4b77caa",
   "metadata": {
    "execution": {
     "iopub.execute_input": "2023-07-31T21:50:28.502177Z",
     "iopub.status.busy": "2023-07-31T21:50:28.501810Z",
     "iopub.status.idle": "2023-07-31T21:50:33.145049Z",
     "shell.execute_reply": "2023-07-31T21:50:33.144699Z",
     "shell.execute_reply.started": "2023-07-31T21:50:28.502152Z"
    }
   },
   "outputs": [
    {
     "data": {
      "text/plain": [
       "[{'generated_text': '<pad> No,  I  do  not  have  a  sister.\\n'}]"
      ]
     },
     "execution_count": 20,
     "metadata": {},
     "output_type": "execute_result"
    }
   ],
   "source": [
    "pipeline(\"\"\"My name is Mark.\n",
    "I have brothers called David and John and my best friend is Michael.\n",
    "Using only the context above. Do you know if I have a sister?    \n",
    "\"\"\")"
   ]
  }
 ],
 "metadata": {
  "kernelspec": {
   "display_name": ".venv",
   "language": "python",
   "name": "python3"
  },
  "language_info": {
   "codemirror_mode": {
    "name": "ipython",
    "version": 3
   },
   "file_extension": ".py",
   "mimetype": "text/x-python",
   "name": "python",
   "nbconvert_exporter": "python",
   "pygments_lexer": "ipython3",
   "version": "3.9.6"
  }
 },
 "nbformat": 4,
 "nbformat_minor": 5
}
