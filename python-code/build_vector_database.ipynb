{
 "cells": [
  {
   "cell_type": "code",
   "execution_count": 2,
   "metadata": {},
   "outputs": [
    {
     "name": "stderr",
     "output_type": "stream",
     "text": [
      "/Volumes/D/AI/CoffeeShopApp/.venv/lib/python3.9/site-packages/pinecone/data/index.py:1: TqdmWarning: IProgress not found. Please update jupyter and ipywidgets. See https://ipywidgets.readthedocs.io/en/stable/user_install.html\n",
      "  from tqdm.autonotebook import tqdm\n"
     ]
    },
    {
     "data": {
      "text/plain": [
       "True"
      ]
     },
     "execution_count": 2,
     "metadata": {},
     "output_type": "execute_result"
    }
   ],
   "source": [
    "from pinecone import Pinecone, ServerlessSpec\n",
    "import pandas as pd\n",
    "import time\n",
    "import os\n",
    "from openai import OpenAI\n",
    "import dotenv\n",
    "dotenv.load_dotenv()"
   ]
  },
  {
   "cell_type": "code",
   "execution_count": 26,
   "metadata": {},
   "outputs": [],
   "source": [
    "token = os.getenv(\"RUNPOD_TOKEN\")\n",
    "open_ai_base_url = os.getenv(\"RUNPOD_EMBEDDING_URL\")\n",
    "model_name = os.getenv(\"MODEL_NAME\")\n",
    "pinecone_api_key = os.getenv(\"PINECONE_API_KEY\")\n",
    "index_name = os.getenv(\"PINECONE_INDEX_NAME\")"
   ]
  },
  {
   "cell_type": "code",
   "execution_count": 27,
   "metadata": {},
   "outputs": [],
   "source": [
    "pc = Pinecone(api_key = pinecone_api_key)\n",
    "client = OpenAI(\n",
    "    api_key = token,\n",
    "    base_url = open_ai_base_url\n",
    ")"
   ]
  },
  {
   "cell_type": "code",
   "execution_count": null,
   "metadata": {},
   "outputs": [],
   "source": []
  },
  {
   "cell_type": "markdown",
   "metadata": {},
   "source": [
    "# Try out the embeddings"
   ]
  },
  {
   "cell_type": "code",
   "execution_count": null,
   "metadata": {},
   "outputs": [],
   "source": [
    "output = client.embeddings.create(input=[\"hello world\"], model = 'BAAI/bge-small-en-v1.5')\n",
    "embeddings = output.data[0].embedding\n",
    "print(embeddings)"
   ]
  },
  {
   "cell_type": "code",
   "execution_count": null,
   "metadata": {},
   "outputs": [],
   "source": []
  },
  {
   "cell_type": "markdown",
   "metadata": {},
   "source": [
    "# WRANGLE DATASET"
   ]
  },
  {
   "cell_type": "code",
   "execution_count": 3,
   "metadata": {},
   "outputs": [
    {
     "data": {
      "text/html": [
       "<div>\n",
       "<style scoped>\n",
       "    .dataframe tbody tr th:only-of-type {\n",
       "        vertical-align: middle;\n",
       "    }\n",
       "\n",
       "    .dataframe tbody tr th {\n",
       "        vertical-align: top;\n",
       "    }\n",
       "\n",
       "    .dataframe thead th {\n",
       "        text-align: right;\n",
       "    }\n",
       "</style>\n",
       "<table border=\"1\" class=\"dataframe\">\n",
       "  <thead>\n",
       "    <tr style=\"text-align: right;\">\n",
       "      <th></th>\n",
       "      <th>name</th>\n",
       "      <th>category</th>\n",
       "      <th>description</th>\n",
       "      <th>ingredients</th>\n",
       "      <th>price</th>\n",
       "      <th>rating</th>\n",
       "      <th>image_path</th>\n",
       "    </tr>\n",
       "  </thead>\n",
       "  <tbody>\n",
       "    <tr>\n",
       "      <th>0</th>\n",
       "      <td>Cappuccino</td>\n",
       "      <td>Coffee</td>\n",
       "      <td>A rich and creamy cappuccino made with freshly...</td>\n",
       "      <td>[Espresso, Steamed Milk, Milk Foam]</td>\n",
       "      <td>4.50</td>\n",
       "      <td>4.7</td>\n",
       "      <td>cappuccino.jpg</td>\n",
       "    </tr>\n",
       "    <tr>\n",
       "      <th>1</th>\n",
       "      <td>Jumbo Savory Scone</td>\n",
       "      <td>Bakery</td>\n",
       "      <td>Deliciously flaky and buttery, this jumbo savo...</td>\n",
       "      <td>[Flour, Butter, Cheese, Herbs, Baking Powder, ...</td>\n",
       "      <td>3.25</td>\n",
       "      <td>4.3</td>\n",
       "      <td>SavoryScone.webp</td>\n",
       "    </tr>\n",
       "    <tr>\n",
       "      <th>2</th>\n",
       "      <td>Latte</td>\n",
       "      <td>Coffee</td>\n",
       "      <td>Smooth and creamy, our latte combines rich esp...</td>\n",
       "      <td>[Espresso, Steamed Milk, Milk Foam]</td>\n",
       "      <td>4.75</td>\n",
       "      <td>4.8</td>\n",
       "      <td>Latte.jpg</td>\n",
       "    </tr>\n",
       "    <tr>\n",
       "      <th>3</th>\n",
       "      <td>Chocolate Chip Biscotti</td>\n",
       "      <td>Bakery</td>\n",
       "      <td>Crunchy and delightful, this chocolate chip bi...</td>\n",
       "      <td>[Flour, Sugar, Chocolate Chips, Eggs, Almonds,...</td>\n",
       "      <td>2.50</td>\n",
       "      <td>4.6</td>\n",
       "      <td>chocolat_biscotti.jpg</td>\n",
       "    </tr>\n",
       "    <tr>\n",
       "      <th>4</th>\n",
       "      <td>Espresso shot</td>\n",
       "      <td>Coffee</td>\n",
       "      <td>A bold shot of rich espresso, our espresso is ...</td>\n",
       "      <td>[Espresso]</td>\n",
       "      <td>2.00</td>\n",
       "      <td>4.9</td>\n",
       "      <td>Espresso_shot.webp</td>\n",
       "    </tr>\n",
       "  </tbody>\n",
       "</table>\n",
       "</div>"
      ],
      "text/plain": [
       "                      name category  \\\n",
       "0               Cappuccino   Coffee   \n",
       "1       Jumbo Savory Scone   Bakery   \n",
       "2                    Latte   Coffee   \n",
       "3  Chocolate Chip Biscotti   Bakery   \n",
       "4            Espresso shot   Coffee   \n",
       "\n",
       "                                         description  \\\n",
       "0  A rich and creamy cappuccino made with freshly...   \n",
       "1  Deliciously flaky and buttery, this jumbo savo...   \n",
       "2  Smooth and creamy, our latte combines rich esp...   \n",
       "3  Crunchy and delightful, this chocolate chip bi...   \n",
       "4  A bold shot of rich espresso, our espresso is ...   \n",
       "\n",
       "                                         ingredients  price  rating  \\\n",
       "0                [Espresso, Steamed Milk, Milk Foam]   4.50     4.7   \n",
       "1  [Flour, Butter, Cheese, Herbs, Baking Powder, ...   3.25     4.3   \n",
       "2                [Espresso, Steamed Milk, Milk Foam]   4.75     4.8   \n",
       "3  [Flour, Sugar, Chocolate Chips, Eggs, Almonds,...   2.50     4.6   \n",
       "4                                         [Espresso]   2.00     4.9   \n",
       "\n",
       "              image_path  \n",
       "0         cappuccino.jpg  \n",
       "1       SavoryScone.webp  \n",
       "2              Latte.jpg  \n",
       "3  chocolat_biscotti.jpg  \n",
       "4     Espresso_shot.webp  "
      ]
     },
     "execution_count": 3,
     "metadata": {},
     "output_type": "execute_result"
    }
   ],
   "source": [
    "df = pd.read_json(\"products/products.jsonl\", lines = True)\n",
    "df.head()"
   ]
  },
  {
   "cell_type": "code",
   "execution_count": 6,
   "metadata": {},
   "outputs": [],
   "source": [
    "df['text'] = df['name'] + \" : \" + df['description'] +\\\n",
    "      \" -- Ingredients: \"+ df[\"ingredients\"].astype(str) +\\\n",
    "      \" -- Price: \"+ df[\"price\"].astype(str) +\\\n",
    "      \" -- rating: \"+ df[\"rating\"].astype(str)"
   ]
  },
  {
   "cell_type": "code",
   "execution_count": 7,
   "metadata": {},
   "outputs": [
    {
     "data": {
      "text/plain": [
       "\"Cappuccino : A rich and creamy cappuccino made with freshly brewed espresso, steamed milk, and a frothy milk cap. This delightful drink offers a perfect balance of bold coffee flavor and smooth milk, making it an ideal companion for relaxing mornings or lively conversations. -- Ingredients: ['Espresso', 'Steamed Milk', 'Milk Foam'] -- Price: 4.5 -- rating: 4.7\""
      ]
     },
     "execution_count": 7,
     "metadata": {},
     "output_type": "execute_result"
    }
   ],
   "source": [
    "df['text'][0]"
   ]
  },
  {
   "cell_type": "code",
   "execution_count": 8,
   "metadata": {},
   "outputs": [],
   "source": [
    "texts = df['text'].tolist()"
   ]
  },
  {
   "cell_type": "code",
   "execution_count": 9,
   "metadata": {},
   "outputs": [],
   "source": [
    "with open(\"products/Merry\\'s_way_about_us.txt\") as f:\n",
    "    Merry_way_about_section = f.read()\n",
    "\n",
    "Merry_way_about_section = \"Coffee shop Merry's way about section:\" + Merry_way_about_section\n",
    "texts.append(Merry_way_about_section)"
   ]
  },
  {
   "cell_type": "code",
   "execution_count": 10,
   "metadata": {},
   "outputs": [],
   "source": [
    "with open(\"products/menu_items_text.txt\") as f:\n",
    "    menu_items_text = f.read()\n",
    "\n",
    "menu_items_text = \"Menu Items: \" + menu_items_text\n",
    "texts.append(menu_items_text)"
   ]
  },
  {
   "cell_type": "code",
   "execution_count": 12,
   "metadata": {},
   "outputs": [
    {
     "data": {
      "text/plain": [
       "[\"Cappuccino : A rich and creamy cappuccino made with freshly brewed espresso, steamed milk, and a frothy milk cap. This delightful drink offers a perfect balance of bold coffee flavor and smooth milk, making it an ideal companion for relaxing mornings or lively conversations. -- Ingredients: ['Espresso', 'Steamed Milk', 'Milk Foam'] -- Price: 4.5 -- rating: 4.7\",\n",
       " \"Jumbo Savory Scone : Deliciously flaky and buttery, this jumbo savory scone is filled with herbs and cheese, creating a mouthwatering experience. Perfect for a hearty snack or a light lunch, it pairs beautifully with your favorite coffee or tea. -- Ingredients: ['Flour', 'Butter', 'Cheese', 'Herbs', 'Baking Powder', 'Salt'] -- Price: 3.25 -- rating: 4.3\",\n",
       " \"Latte : Smooth and creamy, our latte combines rich espresso with velvety steamed milk, creating a perfect balance of flavor and texture. Enjoy it as a comforting treat any time of day, whether you're starting your morning or taking a midday break. -- Ingredients: ['Espresso', 'Steamed Milk', 'Milk Foam'] -- Price: 4.75 -- rating: 4.8\",\n",
       " \"Chocolate Chip Biscotti : Crunchy and delightful, this chocolate chip biscotti is perfect for dipping in your coffee or enjoying on its own. Each bite offers a satisfying crunch and a burst of rich chocolate, making it a favorite for any biscotti lover. -- Ingredients: ['Flour', 'Sugar', 'Chocolate Chips', 'Eggs', 'Almonds', 'Baking Powder'] -- Price: 2.5 -- rating: 4.6\",\n",
       " \"Espresso shot : A bold shot of rich espresso, our espresso is crafted from the finest beans to deliver a robust flavor in every sip. Perfect for a quick pick-me-up, it can also serve as a base for your favorite coffee drinks. -- Ingredients: ['Espresso'] -- Price: 2.0 -- rating: 4.9\",\n",
       " \"Hazelnut Biscotti : These delicious hazelnut biscotti are perfect for a crunchy treat alongside your coffee. Infused with roasted hazelnuts, they provide a delightful nutty flavor that enhances your coffee experience. -- Ingredients: ['Flour', 'Sugar', 'Hazelnuts', 'Eggs', 'Baking Powder'] -- Price: 2.75 -- rating: 4.4\",\n",
       " \"Chocolate Croissant : Flaky and buttery, our chocolate croissant is filled with rich chocolate, making it a delightful pastry for any time. Perfect for breakfast or an afternoon snack, it's a sweet indulgence that never disappoints. -- Ingredients: ['Flour', 'Butter', 'Chocolate', 'Yeast', 'Sugar', 'Salt'] -- Price: 3.75 -- rating: 4.8\",\n",
       " \"Dark chocolate : Rich and indulgent, our dark chocolate drinking chocolate is made with premium cocoa. This luxurious beverage is perfect for a cozy treat on a chilly day, bringing warmth and comfort with every sip. -- Ingredients: ['Cocoa Powder', 'Sugar', 'Milk'] -- Price: 5.0 -- rating: 4.7\",\n",
       " \"Cranberry Scone : This delightful cranberry scone combines sweet and tart flavors, making it perfect for a breakfast treat or afternoon snack. Soft and crumbly, it pairs wonderfully with tea or coffee for a comforting experience. -- Ingredients: ['Flour', 'Butter', 'Cranberries', 'Sugar', 'Baking Powder', 'Eggs'] -- Price: 3.5 -- rating: 4.5\",\n",
       " \"Croissant : Our classic croissant is flaky and buttery, offering a delightful crunch with each bite. Whether enjoyed alone or filled with your favorite spread, it's a timeless pastry that elevates any meal. -- Ingredients: ['Flour', 'Butter', 'Yeast', 'Sugar', 'Salt'] -- Price: 3.25 -- rating: 4.7\",\n",
       " \"Almond Croissant : A delightful twist on the classic croissant, filled with almond cream and topped with slivered almonds for added crunch. This indulgent treat is perfect for those who love a sweet and nutty flavor combination. -- Ingredients: ['Flour', 'Butter', 'Almond Cream', 'Sugar', 'Almonds', 'Yeast'] -- Price: 4.0 -- rating: 4.8\",\n",
       " \"Ginger Biscotti : These spicy ginger biscotti are perfect for dipping and provide a delightful crunch with every bite. The warm flavor of ginger adds a unique twist that pairs beautifully with your favorite hot beverage. -- Ingredients: ['Flour', 'Sugar', 'Ginger', 'Eggs', 'Baking Powder'] -- Price: 2.5 -- rating: 4.7\",\n",
       " \"Oatmeal Scone : Nutty and wholesome, our oatmeal scone is a perfect snack for any time. Made with rolled oats and a hint of sweetness, it's a satisfying option for those who enjoy hearty baked goods. -- Ingredients: ['Flour', 'Oats', 'Butter', 'Sugar', 'Baking Powder', 'Eggs'] -- Price: 3.25 -- rating: 4.3\",\n",
       " \"Ginger Scone : Soft and fragrant, our ginger scone is perfect for a morning treat, infused with the warm spice of ginger. It's an inviting option that pairs beautifully with a cup of tea or coffee. -- Ingredients: ['Flour', 'Butter', 'Ginger', 'Sugar', 'Baking Powder', 'Eggs'] -- Price: 3.5 -- rating: 4.5\",\n",
       " \"Chocolate syrup : Our rich chocolate syrup is perfect for drizzling over desserts or adding to your favorite beverages. Its velvety texture and intense chocolate flavor make it an essential topping for any sweet creation. -- Ingredients: ['Sugar', 'Cocoa Powder', 'Water', 'Vanilla Extract'] -- Price: 1.5 -- rating: 4.8\",\n",
       " \"Hazelnut syrup : Add a nutty flavor to your drinks with our hazelnut syrup, perfect for lattes and desserts. Its smooth sweetness enhances a variety of beverages, making it a must-have for coffee lovers. -- Ingredients: ['Sugar', 'Water', 'Hazelnut Extract', 'Vanilla Extract'] -- Price: 1.5 -- rating: 4.7\",\n",
       " \"Carmel syrup : Sweet and creamy, our caramel syrup is ideal for topping your drinks and desserts with a rich caramel flavor. This versatile syrup elevates everything from coffee to ice cream, providing a luscious touch. -- Ingredients: ['Sugar', 'Water', 'Cream', 'Butter', 'Vanilla Extract'] -- Price: 1.5 -- rating: 4.9\",\n",
       " \"Sugar Free Vanilla syrup : Enjoy the sweet flavor of vanilla without the sugar, making it perfect for your coffee or dessert. This syrup offers a guilt-free way to enhance your beverages, ensuring you never miss out on flavor. -- Ingredients: ['Water', 'Natural Flavors', 'Sucralose'] -- Price: 1.5 -- rating: 4.4\",\n",
       " \"Coffee shop Merry's way about section:Welcome to Merry's Way Coffee, your neighborhood coffee shop located in the heart of Greenwich Village, New York City. At Merry's Way, we believe that coffee is more than just a drink—it’s an experience, a moment of joy, and a way to connect with others.\\n\\nOur Story\\nFounded in 2015, Merry’s Way started as a small family-owned café with one mission: to share the love of quality, ethically-sourced coffee with our community.\\n\\nMerry's passion for travel and coffee led her on a journey across South America, where she handpicked partnerships with small farms and cooperatives. We ensure that every cup we brew tells a story of dedication and care, from farm to table. Our beans are roasted in-house to bring out unique flavors that reflect the regions where they were grown.\\n\\nDelivery & Locations Served\\nIn addition to offering a cozy place to enjoy coffee in our café, we proudly deliver to Greenwich Village, SoHo, West Village, and Lower Manhattan. Whether you’re at home, in the office, or enjoying a day at Washington Square Park, we bring your favorite coffee right to your door. Just a click away, our delivery service ensures that you never miss your daily cup, no matter where you are.\\n\\nOur Menu\\nOur menu offers something for everyone, from our signature espresso blends to refreshing cold brews, artisanal teas, and fresh-baked goods sourced from local bakeries. We also cater to a variety of dietary needs with a range of plant-based milk options and gluten-free snacks.\\n\\nCommunity & Sustainability\\nAt Merry's Way, we are more than just coffee. We are part of the community, and we care deeply about sustainability. We use eco-friendly packaging, work with local farmers, and strive to minimize our carbon footprint. Our café regularly hosts events, such as live music nights, art showcases, and community fundraisers, making it a hub for creativity and connection.\\n\\nWorking Hours\\nWe're open every day to make sure you can get your coffee whenever you need it:\\n\\nMonday to Friday: 7 AM – 8 PM\\nSaturday: 8 AM – 8 PM\\nSunday: 8 AM – 6 PM\\nWhether you’re grabbing a coffee on the go or staying to enjoy the warm, inviting atmosphere of our café, Merry’s Way is your destination for coffee done right.\\n\\nStop by today or order online—we can’t wait to serve you!\",\n",
       " 'Menu Items: Menu Items\\n\\nCappuccino - $4.50\\nJumbo Savory Scone - $3.25\\nLatte - $4.75\\nChocolate Chip Biscotti - $2.50\\nEspresso shot - $2.00\\nHazelnut Biscotti - $2.75\\nChocolate Croissant - $3.75\\nDark chocolate (Drinking Chocolate) - $5.00\\nCranberry Scone - $3.50\\nCroissant - $3.25\\nAlmond Croissant - $4.00\\nGinger Biscotti - $2.50\\nOatmeal Scone - $3.25\\nGinger Scone - $3.50\\nChocolate syrup - $1.50\\nHazelnut syrup - $1.50\\nCarmel syrup - $1.50\\nSugar Free Vanilla syrup - $1.50\\nDark chocolate (Packaged Chocolate) - $3.00']"
      ]
     },
     "execution_count": 12,
     "metadata": {},
     "output_type": "execute_result"
    }
   ],
   "source": [
    "texts"
   ]
  },
  {
   "cell_type": "markdown",
   "metadata": {},
   "source": [
    "# Generate Embeddings"
   ]
  },
  {
   "cell_type": "code",
   "execution_count": 10,
   "metadata": {},
   "outputs": [],
   "source": [
    "output = client.embeddings.create(input=texts, model = model_name)"
   ]
  },
  {
   "cell_type": "code",
   "execution_count": 18,
   "metadata": {},
   "outputs": [],
   "source": [
    "embeddings = output.data"
   ]
  },
  {
   "cell_type": "markdown",
   "metadata": {},
   "source": [
    "# Push data to Pinecone (vector dtabase)"
   ]
  },
  {
   "cell_type": "markdown",
   "metadata": {},
   "source": [
    "You can search by the closest relatable word. You need no do the cosine similarity by hand. This vector database does this by itself. "
   ]
  },
  {
   "cell_type": "code",
   "execution_count": null,
   "metadata": {},
   "outputs": [],
   "source": [
    "pc.create_index(\n",
    "    name = index_name,\n",
    "    dimension = 384,\n",
    "    metric='cosine',\n",
    "    spec=ServerlessSpec(\n",
    "        cloud='aws',\n",
    "        region='us-east-1'\n",
    "    )\n",
    ")"
   ]
  },
  {
   "cell_type": "code",
   "execution_count": 21,
   "metadata": {},
   "outputs": [
    {
     "data": {
      "text/plain": [
       "{'upserted_count': 18}"
      ]
     },
     "execution_count": 21,
     "metadata": {},
     "output_type": "execute_result"
    }
   ],
   "source": [
    "# wait for the index to be ready\n",
    "while not pc.describe_index(index_name).status.ready:\n",
    "    time.sleep(1)\n",
    "\n",
    "index = pc.Index(index_name)\n",
    "\n",
    "vectors = []\n",
    "for text, e in zip(texts, embeddings):\n",
    "    entry_id = text.split(\":\")[0]\n",
    "    vectors.append(\n",
    "        {\n",
    "            \"id\": entry_id,\n",
    "            \"values\": e.embedding,\n",
    "            \"metadata\": {'text': text}\n",
    "        }\n",
    "    )\n",
    "\n",
    "index.upsert(vectors=vectors, namespace = 'ns1')\n"
   ]
  },
  {
   "cell_type": "markdown",
   "metadata": {},
   "source": [
    "# Get closest Documents"
   ]
  },
  {
   "cell_type": "code",
   "execution_count": null,
   "metadata": {},
   "outputs": [],
   "source": [
    "output = client.embeddings.create(input=[\"Is Cappuccino lactose-free?\"], model=model_name)\n",
    "embedding = output.data[0].embedding\n",
    "embedding"
   ]
  },
  {
   "cell_type": "code",
   "execution_count": 24,
   "metadata": {},
   "outputs": [
    {
     "data": {
      "text/plain": [
       "{'matches': [{'id': 'Cappuccino ',\n",
       "              'metadata': {'text': 'Cappuccino : A rich and creamy cappuccino '\n",
       "                                   'made with freshly brewed espresso, steamed '\n",
       "                                   'milk, and a frothy milk cap. This '\n",
       "                                   'delightful drink offers a perfect balance '\n",
       "                                   'of bold coffee flavor and smooth milk, '\n",
       "                                   'making it an ideal companion for relaxing '\n",
       "                                   'mornings or lively conversations. -- '\n",
       "                                   \"Ingredients: ['Espresso', 'Steamed Milk', \"\n",
       "                                   \"'Milk Foam']-- Price: 4.5-- rating: 4.7\"},\n",
       "              'score': 0.734453261,\n",
       "              'values': []},\n",
       "             {'id': 'Sugar Free Vanilla syrup ',\n",
       "              'metadata': {'text': 'Sugar Free Vanilla syrup : Enjoy the sweet '\n",
       "                                   'flavor of vanilla without the sugar, '\n",
       "                                   'making it perfect for your coffee or '\n",
       "                                   'dessert. This syrup offers a guilt-free '\n",
       "                                   'way to enhance your beverages, ensuring '\n",
       "                                   'you never miss out on flavor. -- '\n",
       "                                   \"Ingredients: ['Water', 'Natural Flavors', \"\n",
       "                                   \"'Sucralose']-- Price: 1.5-- rating: 4.4\"},\n",
       "              'score': 0.625657201,\n",
       "              'values': []},\n",
       "             {'id': 'Carmel syrup ',\n",
       "              'metadata': {'text': 'Carmel syrup : Sweet and creamy, our '\n",
       "                                   'caramel syrup is ideal for topping your '\n",
       "                                   'drinks and desserts with a rich caramel '\n",
       "                                   'flavor. This versatile syrup elevates '\n",
       "                                   'everything from coffee to ice cream, '\n",
       "                                   'providing a luscious touch. -- '\n",
       "                                   \"Ingredients: ['Sugar', 'Water', 'Cream', \"\n",
       "                                   \"'Butter', 'Vanilla Extract']-- Price: \"\n",
       "                                   '1.5-- rating: 4.9'},\n",
       "              'score': 0.585689545,\n",
       "              'values': []}],\n",
       " 'namespace': 'ns1',\n",
       " 'usage': {'read_units': 6}}"
      ]
     },
     "execution_count": 24,
     "metadata": {},
     "output_type": "execute_result"
    }
   ],
   "source": [
    "results = index.query(\n",
    "    namespace='ns1',\n",
    "    vector=embedding,\n",
    "    top_k = 3,\n",
    "    include_values = False,\n",
    "    include_metadata=True\n",
    ")\n",
    "results"
   ]
  }
 ],
 "metadata": {
  "kernelspec": {
   "display_name": ".venv",
   "language": "python",
   "name": "python3"
  },
  "language_info": {
   "codemirror_mode": {
    "name": "ipython",
    "version": 3
   },
   "file_extension": ".py",
   "mimetype": "text/x-python",
   "name": "python",
   "nbconvert_exporter": "python",
   "pygments_lexer": "ipython3",
   "version": "3.9.6"
  }
 },
 "nbformat": 4,
 "nbformat_minor": 2
}
